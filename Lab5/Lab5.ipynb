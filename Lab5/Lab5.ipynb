{
  "nbformat": 4,
  "nbformat_minor": 0,
  "metadata": {
    "colab": {
      "name": "Lab5.ipynb",
      "provenance": [],
      "include_colab_link": true
    },
    "kernelspec": {
      "name": "python3",
      "display_name": "Python 3"
    },
    "language_info": {
      "name": "python"
    }
  },
  "cells": [
    {
      "cell_type": "markdown",
      "metadata": {
        "id": "view-in-github",
        "colab_type": "text"
      },
      "source": [
        "<a href=\"https://colab.research.google.com/github/jalvaradoc/Repositorio_Algoritmos/blob/main/Lab5/Lab5.ipynb\" target=\"_parent\"><img src=\"https://colab.research.google.com/assets/colab-badge.svg\" alt=\"Open In Colab\"/></a>"
      ]
    },
    {
      "cell_type": "code",
      "execution_count": 99,
      "metadata": {
        "id": "JXcWOmIGDPvE"
      },
      "outputs": [],
      "source": [
        "#importar las bibliotecas necesarias\n",
        "import matplotlib.pyplot as plt\n",
        "import numpy as np\n",
        "import math"
      ]
    },
    {
      "cell_type": "code",
      "source": [
        "#Solicitamos los parametros \n",
        "Tam_genoma = int(input(\"Ingresar el tamaño del genoma para cada individuo: \"))\n",
        "Tam_poblacion = int(input(\"Ingrese la cantidad de individuos que hay en cada generacion: \"))\n",
        "Prob_Mutacion = float(input(\"Ingrese la probabilidad de mutar de un individuo: \"))\n",
        "Generaciones = int(input(\"Ingrese la cantidad de generaciones a ejecutar: \"))\n",
        "Rango = float(input(\"Ingrese el rango maximo para el que se va a buscar en la funcion: \"))"
      ],
      "metadata": {
        "colab": {
          "base_uri": "https://localhost:8080/"
        },
        "id": "EjS-gdMfDUCA",
        "outputId": "ae43358b-a983-49b0-c8ba-ee9741f1e75f"
      },
      "execution_count": 100,
      "outputs": [
        {
          "name": "stdout",
          "output_type": "stream",
          "text": [
            "Ingresar el tamaño del genoma para cada individuo: 15\n",
            "Ingrese la cantidad de individuos que hay en cada generacion: 100\n",
            "Ingrese la probabilidad de mutar de un individuo: 0.005\n",
            "Ingrese la cantidad de generaciones a ejecutar: 200\n",
            "Ingrese el rango maximo para el que se va a buscar en la funcion: 10\n"
          ]
        }
      ]
    },
    {
      "cell_type": "code",
      "source": [
        "#Creamos la funcion a la cual vamos a bucar maximizar\n",
        "def fx(x):\n",
        "    #y = (math.sin(x)+1)/2\n",
        "    y = (math.sin(x-1)/(x-1))+1\n",
        "    return y"
      ],
      "metadata": {
        "id": "4Y1ZNsQrDXT-"
      },
      "execution_count": 101,
      "outputs": []
    },
    {
      "cell_type": "code",
      "source": [
        "# imprimimos la funcion en el rango que vammos a buscar el maximo\n",
        "y_axis = []\n",
        "x_axis=np.arange(0,Rango,0.02)\n",
        "\n",
        "for num in x_axis:\n",
        "    y_axis.append(fx(num))\n",
        "\n",
        "plt.plot(x_axis,y_axis)"
      ],
      "metadata": {
        "colab": {
          "base_uri": "https://localhost:8080/",
          "height": 317
        },
        "id": "z_QCppQPDYz_",
        "outputId": "d864c367-3cbd-46fd-b169-bb5045f646c7"
      },
      "execution_count": 102,
      "outputs": [
        {
          "output_type": "stream",
          "name": "stderr",
          "text": [
            "/usr/local/lib/python3.7/dist-packages/ipykernel_launcher.py:4: RuntimeWarning: invalid value encountered in double_scalars\n",
            "  after removing the cwd from sys.path.\n"
          ]
        },
        {
          "output_type": "execute_result",
          "data": {
            "text/plain": [
              "[<matplotlib.lines.Line2D at 0x7f6c0096c8d0>]"
            ]
          },
          "metadata": {},
          "execution_count": 102
        },
        {
          "output_type": "display_data",
          "data": {
            "text/plain": [
              "<Figure size 432x288 with 1 Axes>"
            ],
            "image/png": "[encoded data removed]"
          },
          "metadata": {
            "needs_background": "light"
          }
        }
      ]
    },
    {
      "cell_type": "code",
      "source": [
        "#Funcion para volver un individuo en decimal\n",
        "def listToDecimal(num):\n",
        "    decimal=0\n",
        "    for i in range(len(num)):\n",
        "        decimal+=num[i]*10**(-i)\n",
        "    return decimal"
      ],
      "metadata": {
        "id": "HifGbAafDjdo"
      },
      "execution_count": 103,
      "outputs": []
    },
    {
      "cell_type": "code",
      "source": [
        "#Genetic pool\n",
        "aux = np.arange(0,int(Rango),1)\n",
        "genetic_pool=[aux,[0,1,2,3,4,5,6,7,8,9]]\n",
        "\n",
        "#Crear la poblacion inicial\n",
        "poblacion = []\n",
        "\n",
        "for i in range(Tam_poblacion):\n",
        "    individuo = []\n",
        "    individuo += [np.random.choice(genetic_pool[0])]\n",
        "    individuo += list(np.random.choice(genetic_pool[1],Tam_genoma-1))\n",
        "    poblacion.append(individuo)\n",
        "poblacion[:10]"
      ],
      "metadata": {
        "colab": {
          "base_uri": "https://localhost:8080/"
        },
        "id": "XN_YwAfHDmKA",
        "outputId": "58ee93e1-400f-4211-beab-8c33728d3b5e"
      },
      "execution_count": 104,
      "outputs": [
        {
          "output_type": "execute_result",
          "data": {
            "text/plain": [
              "[[1, 1, 3, 6, 8, 7, 9, 8, 8, 1, 7, 3, 1, 0, 6],\n",
              " [1, 7, 5, 2, 9, 4, 6, 3, 5, 5, 2, 9, 0, 3, 6],\n",
              " [3, 7, 5, 9, 3, 4, 6, 6, 6, 4, 3, 3, 7, 1, 2],\n",
              " [8, 8, 6, 0, 5, 8, 5, 7, 1, 2, 5, 1, 7, 5, 6],\n",
              " [7, 6, 3, 0, 4, 1, 4, 2, 1, 8, 7, 5, 8, 1, 9],\n",
              " [2, 6, 5, 2, 7, 7, 3, 6, 1, 9, 8, 6, 8, 5, 5],\n",
              " [2, 9, 0, 1, 3, 4, 6, 3, 4, 1, 2, 2, 6, 6, 3],\n",
              " [1, 0, 8, 5, 6, 1, 5, 3, 1, 3, 5, 2, 6, 2, 9],\n",
              " [4, 3, 3, 9, 1, 9, 0, 1, 2, 3, 2, 1, 7, 1, 3],\n",
              " [2, 1, 1, 6, 0, 3, 1, 3, 6, 4, 8, 2, 9, 6, 7]]"
            ]
          },
          "metadata": {},
          "execution_count": 104
        }
      ]
    },
    {
      "cell_type": "code",
      "source": [
        "#Funcion de mutacion\n",
        "def mutate(individuals, prob, pool):\n",
        "    for i in range(len(individuals)):\n",
        "        mutate_individual=individuals[i]\n",
        "        if np.random.random() < prob:\n",
        "            mutation = np.random.choice(pool[0])\n",
        "            mutate_individual = [mutation] + mutate_individual[1:]\n",
        "        \n",
        "        for j in range(1,len(mutate_individual)):\n",
        "            if np.random.random() < prob:\n",
        "                mutation = np.random.choice(pool[1])\n",
        "                mutate_individual = mutate_individual[0:j] + [mutation] + mutate_individual[j+1:]#+1 permite omitir el gen antiguo por el mutado\n",
        "        individuals[i] = mutate_individual"
      ],
      "metadata": {
        "id": "2K-cKC6EHvkA"
      },
      "execution_count": 105,
      "outputs": []
    },
    {
      "cell_type": "code",
      "source": [
        "size_poblacion = len(poblacion)\n",
        "maximo_funcion = 2\n",
        "Mejores_individuos = []\n",
        "error_poblaciones = []\n",
        "\n",
        "for _ in range(Generaciones):\n",
        "    \n",
        "    fitness =[]\n",
        "\n",
        "    #extraigo los valores de y para medir su éxito\n",
        "    for individuo in poblacion:\n",
        "        x = listToDecimal(individuo)\n",
        "        y = fx(x)\n",
        "        fitness += [y]\n",
        "\n",
        "    #convierto fitnees en un vector para realizar operaciones\n",
        "    #más fácilmente\n",
        "    fitness = np.array(fitness)\n",
        "\n",
        "    #calcular error\n",
        "    error_individuos = 2-fitness\n",
        "    error_generacion =   error_individuos.sum()/Tam_poblacion\n",
        "    error_poblaciones+=[error_generacion]\n",
        "\n",
        "\n",
        "    #divido todos los valores de y para la suma total\n",
        "    #y así obtener valores entre 0 y 1\n",
        "    fitness=fitness/fitness.sum()  \n",
        "\n",
        "        \n",
        "    \n",
        "    # se reproducen los mejores individuos\n",
        "    offspring = []\n",
        "    for i in range(size_poblacion//2):\n",
        "        parents = np.random.choice(size_poblacion, 2, p=fitness)\n",
        "        cross_point = np.random.randint(Tam_genoma)\n",
        "        offspring += [poblacion[parents[0]][:cross_point] + poblacion[parents[1]][cross_point:]]\n",
        "        offspring += [poblacion[parents[1]][:cross_point] + poblacion[parents[0]][cross_point:]]    \n",
        "    \n",
        "    poblacion = offspring\n",
        "    \n",
        "    #####\n",
        "    # MUTACIONES\n",
        "    ####\n",
        "     \n",
        "    mutate(poblacion,Prob_Mutacion,genetic_pool)\n",
        "    Mejores_individuos += [listToDecimal(poblacion[np.where(fitness == fitness.max())[0][0]])]\n",
        "\n",
        "\n"
      ],
      "metadata": {
        "id": "FwOvNMpIHykv"
      },
      "execution_count": 106,
      "outputs": []
    },
    {
      "cell_type": "code",
      "source": [
        "#imprimir la pablacion resultante\n",
        "for individuo in poblacion:\n",
        "    x = listToDecimal(individuo)\n",
        "    y = fx(x)\n",
        "    plt.plot(x,y,'x')\n",
        "plt.plot(x_axis,y_axis)"
      ],
      "metadata": {
        "colab": {
          "base_uri": "https://localhost:8080/",
          "height": 282
        },
        "id": "cpmMGUQRI7wc",
        "outputId": "17192e46-a4b3-4a0c-cb79-573623fbf6b5"
      },
      "execution_count": 107,
      "outputs": [
        {
          "output_type": "execute_result",
          "data": {
            "text/plain": [
              "[<matplotlib.lines.Line2D at 0x7f6c008017d0>]"
            ]
          },
          "metadata": {},
          "execution_count": 107
        },
        {
          "output_type": "display_data",
          "data": {
            "text/plain": [
              "<Figure size 432x288 with 1 Axes>"
            ],
            "image/png": "[encoded data removed]"
          },
          "metadata": {
            "needs_background": "light"
          }
        }
      ]
    },
    {
      "cell_type": "code",
      "source": [
        "# imprimimos el error en cada generacion\n",
        "y_axis2 = error_poblaciones\n",
        "x_axis2=np.arange(0,Generaciones)\n",
        "\n",
        "plt.plot(x_axis2,y_axis2)"
      ],
      "metadata": {
        "colab": {
          "base_uri": "https://localhost:8080/",
          "height": 282
        },
        "id": "91blwYGc-ahs",
        "outputId": "7135ba9a-a346-463b-c19b-2dd3d6a60b56"
      },
      "execution_count": 108,
      "outputs": [
        {
          "output_type": "execute_result",
          "data": {
            "text/plain": [
              "[<matplotlib.lines.Line2D at 0x7f6c00716d50>]"
            ]
          },
          "metadata": {},
          "execution_count": 108
        },
        {
          "output_type": "display_data",
          "data": {
            "text/plain": [
              "<Figure size 432x288 with 1 Axes>"
            ],
            "image/png": "[encoded data removed]"
          },
          "metadata": {
            "needs_background": "light"
          }
        }
      ]
    },
    {
      "cell_type": "code",
      "source": [
        "#imprimir mejores individuos de cada generacion\n",
        "for i in range (len(Mejores_individuos)) :\n",
        "    x = Mejores_individuos[i]\n",
        "    y = fx(x)\n",
        "    plt.plot(x,y,'x')\n",
        "plt.plot(x_axis,y_axis)"
      ],
      "metadata": {
        "colab": {
          "base_uri": "https://localhost:8080/",
          "height": 282
        },
        "id": "_bGvLHx0Kd_Q",
        "outputId": "cc39b493-e98c-4fd8-dfb4-63aab43446b4"
      },
      "execution_count": 109,
      "outputs": [
        {
          "output_type": "execute_result",
          "data": {
            "text/plain": [
              "[<matplotlib.lines.Line2D at 0x7f6c00460650>]"
            ]
          },
          "metadata": {},
          "execution_count": 109
        },
        {
          "output_type": "display_data",
          "data": {
            "text/plain": [
              "<Figure size 432x288 with 1 Axes>"
            ],
            "image/png": "[encoded data removed]"
          },
          "metadata": {
            "needs_background": "light"
          }
        }
      ]
    },
    {
      "cell_type": "code",
      "source": [
        "#imprimir mejor individuo de la ultima generacion\n",
        "print(Mejores_individuos[Generaciones-1])\n",
        "print(listToDecimal(poblacion[np.where(fitness == fitness.max())[0][0]]))\n",
        "print(fx(Mejores_individuos[Generaciones-1]))"
      ],
      "metadata": {
        "colab": {
          "base_uri": "https://localhost:8080/"
        },
        "id": "Vbh2CyfdLjT9",
        "outputId": "8472fc22-b24e-40d5-8ce5-c02d6c2ee0e0"
      },
      "execution_count": 110,
      "outputs": [
        {
          "output_type": "stream",
          "name": "stdout",
          "text": [
            "1.2576252014233398\n",
            "1.2576252014233398\n",
            "1.9889748602734292\n"
          ]
        }
      ]
    }
  ]
}