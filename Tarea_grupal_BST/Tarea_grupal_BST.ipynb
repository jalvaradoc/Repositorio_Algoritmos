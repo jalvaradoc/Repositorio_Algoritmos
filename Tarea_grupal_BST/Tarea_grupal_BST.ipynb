{
  "nbformat": 4,
  "nbformat_minor": 0,
  "metadata": {
    "colab": {
      "name": "Tarea_grupal_BST.ipynb",
      "provenance": [],
      "authorship_tag": "ABX9TyM3wMburhuCiiXg0myQnHmQ",
      "include_colab_link": true
    },
    "kernelspec": {
      "name": "python3",
      "display_name": "Python 3"
    },
    "language_info": {
      "name": "python"
    }
  },
  "cells": [
    {
      "cell_type": "markdown",
      "metadata": {
        "id": "view-in-github",
        "colab_type": "text"
      },
      "source": [
        "<a href=\"https://colab.research.google.com/github/jalvaradoc/Repositorio_Algoritmos/blob/main/Tarea_grupal_BST/Tarea_grupal_BST.ipynb\" target=\"_parent\"><img src=\"https://colab.research.google.com/assets/colab-badge.svg\" alt=\"Open In Colab\"/></a>"
      ]
    },
    {
      "cell_type": "code",
      "source": [
        "class newNode:\n",
        " \n",
        "    # Constructor to create a new node\n",
        "    def __init__(self, data):\n",
        "        self.data = data\n",
        "        self.left = None\n",
        "        self.right = None\n",
        " \n",
        "# Function to check the given\n",
        "# key exist or not\n",
        "def iterativeSearch(root, key):\n",
        "     \n",
        "    # Traverse until root reaches\n",
        "    # to dead end\n",
        "    while root != None:\n",
        "         \n",
        "        # pass right subtree as new tree\n",
        "        if key > root.data:\n",
        "            root = root.right\n",
        " \n",
        "        # pass left subtree as new tree\n",
        "        elif key < root.data:\n",
        "            root = root.left\n",
        "        else:\n",
        "            return True # if the key is found return 1\n",
        "    return False\n",
        " \n",
        "# A utility function to insert a\n",
        "# new Node with given key in BST\n",
        "def insert(Node, data):\n",
        "     \n",
        "    # If the tree is empty, return\n",
        "    # a new Node\n",
        "    if Node == None:\n",
        "        return newNode(data)\n",
        " \n",
        "    # Otherwise, recur down the tree\n",
        "    if data < Node.data:\n",
        "        Node.left = insert(Node.left, data)\n",
        "    elif data > Node.data:\n",
        "        Node.right = insert(Node.right, data)\n",
        " \n",
        "    # return the (unchanged) Node pointer\n",
        "    return Node\n",
        "\n",
        "\n",
        "#function that returns the path (in a list) to a given value\n",
        "def searchPath(root, key, list=[]):\n",
        "     \n",
        "    # Traverse until root reaches\n",
        "    # to dead end\n",
        "    while root != None:\n",
        "\n",
        "        list.append(root.data)   \n",
        "        # pass right subtree as new tree\n",
        "        if key > root.data:\n",
        "            root = root.right\n",
        " \n",
        "        # pass left subtree as new tree\n",
        "        elif key < root.data:\n",
        "            root = root.left\n",
        "        else:\n",
        "            return list \n",
        "\n",
        "\n",
        "#function that prints the tree and the path to a given value\n",
        "def printTree(Node, pathList, space=0, LEVEL_SPACE = 5):\n",
        "    if (Node == None): return\n",
        "    space += LEVEL_SPACE\n",
        "    printTree(Node.right,pathList, space)\n",
        "    \n",
        "    # print the spaces\n",
        "    for i in range(LEVEL_SPACE, space): \n",
        "      print(end = \" \") \n",
        "\n",
        "    #print the value of the node, \n",
        "    #if it is in the list \"pathList\", it is printed in a different color\n",
        "    if Node.data in pathList:\n",
        "      print('\\033[4;35m' + str(Node.data) + \"<\" +'\\033[0m')\n",
        "    else:\n",
        "      print( str(Node.data) + \"<\")\n",
        "      \n",
        "    printTree(Node.left,pathList, space)"
      ],
      "metadata": {
        "id": "_XjXV7vMVdne"
      },
      "execution_count": 48,
      "outputs": []
    },
    {
      "cell_type": "code",
      "source": [
        "40#create the tree and add the root node\n",
        "root_value= int(input('Ingrese el valor de la raiz: '))\n",
        "root = None\n",
        "root = insert(root, root_value)\n",
        "    \n",
        "#add the nodes to the tree\n",
        "num_nodes = int(input('Ingrese la cantidad de nodos: '))\n",
        "for i in range(1,num_nodes+1):\n",
        "  value = int(input('ingrese el valor ('+str(i)+') : '))\n",
        "  insert(root, value)\n",
        "\n",
        "#get the value of the target\n",
        "target = int(input('Ingrese el valor que desea buscar: '))\n",
        "\n",
        "#check if the value is in the tree\n",
        "if iterativeSearch(root, target):\n",
        "  print(\"Camino desde el nodo raiz:\")\n",
        "  #prints the tree\n",
        "  path=searchPath(root, target)\n",
        "  printTree(root,path)      \n",
        "\n",
        "else:   \n",
        "    print(\"El valor no esta en el arbol\")"
      ],
      "metadata": {
        "colab": {
          "base_uri": "https://localhost:8080/"
        },
        "id": "hvFTQfPfNQqB",
        "outputId": "23c14da7-984c-4eba-ae6c-f459c4c60672"
      },
      "execution_count": 50,
      "outputs": [
        {
          "output_type": "stream",
          "name": "stdout",
          "text": [
            "Ingrese el valor de la raiz: 50\n",
            "Ingrese la cantidad de nodos: 6\n",
            "ingrese el valor (1) : 30\n",
            "ingrese el valor (2) : 20\n",
            "ingrese el valor (3) : 40\n",
            "ingrese el valor (4) : 70\n",
            "ingrese el valor (5) : 60\n",
            "ingrese el valor (6) : 80\n",
            "Ingrese el valor que desea buscar: 60\n",
            "Camino desde el nodo raiz:\n",
            "          80<\n",
            "     \u001b[4;35m70<\u001b[0m\n",
            "          \u001b[4;35m60<\u001b[0m\n",
            "\u001b[4;35m50<\u001b[0m\n",
            "          40<\n",
            "     30<\n",
            "          20<\n"
          ]
        }
      ]
    }
  ]
}