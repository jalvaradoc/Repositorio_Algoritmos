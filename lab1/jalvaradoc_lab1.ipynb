{
  "nbformat": 4,
  "nbformat_minor": 0,
  "metadata": {
    "colab": {
      "name": "jalvaradoc_lab1.ipynb",
      "provenance": [],
      "collapsed_sections": [],
      "include_colab_link": true
    },
    "kernelspec": {
      "display_name": "Python 3",
      "language": "python",
      "name": "python3"
    },
    "language_info": {
      "codemirror_mode": {
        "name": "ipython",
        "version": 3
      },
      "file_extension": ".py",
      "mimetype": "text/x-python",
      "name": "python",
      "nbconvert_exporter": "python",
      "pygments_lexer": "ipython3",
      "version": "3.6.4"
    }
  },
  "cells": [
    {
      "cell_type": "markdown",
      "metadata": {
        "id": "view-in-github",
        "colab_type": "text"
      },
      "source": [
        "<a href=\"https://colab.research.google.com/github/jalvaradoc/Repositorio_Algoritmos/blob/main/lab1/jalvaradoc_lab1.ipynb\" target=\"_parent\"><img src=\"https://colab.research.google.com/assets/colab-badge.svg\" alt=\"Open In Colab\"/></a>"
      ]
    },
    {
      "cell_type": "markdown",
      "metadata": {
        "id": "eQzBbvyKQymx"
      },
      "source": [
        "<div align=\"center\">\n",
        "<img style=\"display: block; margin: auto;\" alt=\"photo\" src=\"https://cdn.quantconnect.com/web/i/icon.png\">\n",
        "\n",
        "Quantconnect\n",
        "\n",
        "Introduction to Financial Python\n",
        "</div>\n",
        "\n",
        "# 01 Data Types and Data Structures\n",
        "\n",
        "# Introduction\n",
        "\n",
        "This tutorial provides a basic introduction to the Python programming language. If you are new to Python, you should run the code snippets while reading this tutorial. If you are an advanced Python user, please feel free to skip this chapter.\n",
        "\n",
        "# Basic Variable Types\n",
        "The basic types of variables in Python are: strings, integers, floating point numbers and booleans.\n",
        "\n",
        "Strings in python are identified as a contiguous set of characters represented in either single quotes (' ') or double quotes (\" \").\n"
      ]
    },
    {
      "cell_type": "code",
      "metadata": {
        "colab": {
          "base_uri": "https://localhost:8080/"
        },
        "id": "N5t-UrcfOqid",
        "outputId": "c69f2c8f-d0d4-45e9-f4e4-6bd98e890f8e"
      },
      "source": [
        "string1 = 'My name is ' \n",
        "string2 = \"Juan Camilo\"\n",
        "print(string1 + string2) #concatenation of string1 and string2"
      ],
      "execution_count": null,
      "outputs": [
        {
          "output_type": "stream",
          "name": "stdout",
          "text": [
            "My name is Juan Camilo\n"
          ]
        }
      ]
    },
    {
      "cell_type": "markdown",
      "metadata": {
        "id": "bXHnxZyHSd1M"
      },
      "source": [
        "An integer is a round number with no values after the decimal point."
      ]
    },
    {
      "cell_type": "code",
      "metadata": {
        "colab": {
          "base_uri": "https://localhost:8080/"
        },
        "id": "pNjuz3toOqif",
        "outputId": "5eca40f6-7850-46f6-f42d-b47f978988f9"
      },
      "source": [
        "number = 3\n",
        "print(number)\n",
        "print(type(number)) #prints data type of number"
      ],
      "execution_count": null,
      "outputs": [
        {
          "output_type": "stream",
          "name": "stdout",
          "text": [
            "3\n",
            "<class 'int'>\n"
          ]
        }
      ]
    },
    {
      "cell_type": "markdown",
      "metadata": {
        "id": "_1ZanWrYSnzF"
      },
      "source": [
        "The built-in function int() can convert a string into an integer."
      ]
    },
    {
      "cell_type": "code",
      "metadata": {
        "colab": {
          "base_uri": "https://localhost:8080/"
        },
        "id": "zPwGb20FOqif",
        "outputId": "4646170b-a0b5-40e8-feed-a36519092278"
      },
      "source": [
        "my_string = \"100\"\n",
        "my_int = int(my_string)\n",
        "print(type(my_int))  #prints data type of my_int\n",
        "print(my_int+1)  #prints 100+1\n"
      ],
      "execution_count": null,
      "outputs": [
        {
          "output_type": "stream",
          "name": "stdout",
          "text": [
            "<class 'int'>\n",
            "101\n"
          ]
        }
      ]
    },
    {
      "cell_type": "markdown",
      "metadata": {
        "id": "WqMDPDTHSrE9"
      },
      "source": [
        "A floating point number, or a float, is a real number in mathematics. In Python we need to include a value after a decimal point to define it as a float"
      ]
    },
    {
      "cell_type": "markdown",
      "metadata": {
        "id": "2iuyv8Q7StTJ"
      },
      "source": [
        " The built-in function float() can convert a string or an integer into a float."
      ]
    },
    {
      "cell_type": "code",
      "metadata": {
        "colab": {
          "base_uri": "https://localhost:8080/"
        },
        "id": "otCzKKW9Oqig",
        "outputId": "c4142de2-a284-4ee9-c263-e0b6ff586de1"
      },
      "source": [
        "my_string = \"100\"\n",
        "my_float = float(my_string) #function float() converts my_string to float\n",
        "print(type(my_float))\n",
        "print(my_float)"
      ],
      "execution_count": null,
      "outputs": [
        {
          "output_type": "stream",
          "name": "stdout",
          "text": [
            "<class 'float'>\n",
            "100.0\n"
          ]
        }
      ]
    },
    {
      "cell_type": "markdown",
      "metadata": {
        "id": "bnGMwH21Szr_"
      },
      "source": [
        "A boolean, or bool, is a binary variable. Its value can only be True or False. It is useful when we do some logic operations, which would be covered in our next chapter."
      ]
    },
    {
      "cell_type": "code",
      "metadata": {
        "colab": {
          "base_uri": "https://localhost:8080/"
        },
        "id": "wwLw5VthOqig",
        "outputId": "8633769a-d762-4695-e862-d628c913af56"
      },
      "source": [
        "my_bool = 10>3\n",
        "print(my_bool)\n",
        "print(type(my_bool))"
      ],
      "execution_count": null,
      "outputs": [
        {
          "output_type": "stream",
          "name": "stdout",
          "text": [
            "True\n",
            "<class 'bool'>\n"
          ]
        }
      ]
    },
    {
      "cell_type": "markdown",
      "metadata": {
        "id": "1Xc9G9_sS2ju"
      },
      "source": [
        "# Basic Math Operations\n",
        "\n",
        "The basic math operators in python are demonstrated below:"
      ]
    },
    {
      "cell_type": "code",
      "metadata": {
        "colab": {
          "base_uri": "https://localhost:8080/"
        },
        "id": "DMa6pDl5Oqig",
        "outputId": "a0ff4562-fc40-450b-a379-858f94cf7537"
      },
      "source": [
        "print(\"3+3 =\", 3+3)\n",
        "print(\"5-2 =\", 5-2)\n",
        "print(\"5*5 =\", 5*5)\n",
        "print(\"10/2 =\", 10/2)\n",
        "print('2^3 =', 2**3) "
      ],
      "execution_count": null,
      "outputs": [
        {
          "output_type": "stream",
          "name": "stdout",
          "text": [
            "3+3 = 6\n",
            "5-2 = 3\n",
            "5*5 = 25\n",
            "10/2 = 5.0\n",
            "2^3 = 8\n"
          ]
        }
      ]
    },
    {
      "cell_type": "code",
      "metadata": {
        "colab": {
          "base_uri": "https://localhost:8080/"
        },
        "id": "KE9gUryAOqig",
        "outputId": "976ff90b-eebd-4fc5-ffcc-62300ce682b5"
      },
      "source": [
        "print(1/3)\n",
        "print(1.0/3)"
      ],
      "execution_count": null,
      "outputs": [
        {
          "output_type": "stream",
          "name": "stdout",
          "text": [
            "0.3333333333333333\n",
            "0.3333333333333333\n"
          ]
        }
      ]
    },
    {
      "cell_type": "markdown",
      "metadata": {
        "id": "AN5Oa3DoS_Nf"
      },
      "source": [
        "# Data Collections\n",
        "\n",
        "## List\n",
        "A list is an ordered collection of values. A list is mutable, which means you can change a list's value without changing the list itself. Creating a list is simply putting different comma-separated values between square brackets."
      ]
    },
    {
      "cell_type": "code",
      "metadata": {
        "colab": {
          "base_uri": "https://localhost:8080/"
        },
        "id": "-tQdNqCvOqig",
        "outputId": "0c704f25-4006-4aba-85a2-0c4b8c63caa7"
      },
      "source": [
        "my_list = [1, 2, 3]\n",
        "print(my_list)"
      ],
      "execution_count": null,
      "outputs": [
        {
          "output_type": "stream",
          "name": "stdout",
          "text": [
            "[1, 2, 3]\n"
          ]
        }
      ]
    },
    {
      "cell_type": "markdown",
      "metadata": {
        "id": "1O0TsgZCTHrM"
      },
      "source": [
        "The values in a list are called \"elements\". We can access list elements by indexing. Python index starts from 0. So if you have a list of length n, the index of the first element will be 0, and that of the last element will be n − 1. By the way, the length of a list can be obtained by the built-in function len()."
      ]
    },
    {
      "cell_type": "code",
      "metadata": {
        "colab": {
          "base_uri": "https://localhost:8080/"
        },
        "id": "QhuVhRR5Oqih",
        "outputId": "c04a4712-d73f-45f7-a577-ea527b08e080"
      },
      "source": [
        "my_list = [0,1,2,3,4]\n",
        "list_lenght = len(my_list) #function len() returns the size of my_list\n",
        "print(list_lenght) #prints size of my_list\n",
        "print(my_list[list_lenght-1]) #prints the last element of my_list"
      ],
      "execution_count": null,
      "outputs": [
        {
          "output_type": "stream",
          "name": "stdout",
          "text": [
            "5\n",
            "4\n"
          ]
        }
      ]
    },
    {
      "cell_type": "markdown",
      "metadata": {
        "id": "jgSZy1VGTKSc"
      },
      "source": [
        "You can also change the elements in the list by accessing an index and assigning a new value."
      ]
    },
    {
      "cell_type": "code",
      "metadata": {
        "colab": {
          "base_uri": "https://localhost:8080/"
        },
        "id": "NQBNLjAvOqih",
        "outputId": "033e0125-86d8-4480-9e0a-5c8fb0f18805"
      },
      "source": [
        "my_list = [1, 2, False, 4, 5]\n",
        "my_list[2] = 3 #changes the element in index 2\n",
        "print(my_list)"
      ],
      "execution_count": null,
      "outputs": [
        {
          "output_type": "stream",
          "name": "stdout",
          "text": [
            "[1, 2, 3, 4, 5]\n"
          ]
        }
      ]
    },
    {
      "cell_type": "markdown",
      "metadata": {
        "id": "EQPs5ojoTVrk"
      },
      "source": [
        "A list can also be sliced with a colon:"
      ]
    },
    {
      "cell_type": "code",
      "metadata": {
        "colab": {
          "base_uri": "https://localhost:8080/"
        },
        "id": "keNX2RbtOqii",
        "outputId": "ebb895d2-224c-4925-955b-767d8e597dba"
      },
      "source": [
        "my_list = [-5,-4,-3,-2,-1,0,1,2,3,4,5]\n",
        "list_lenght = len(my_list) \n",
        "print(my_list[5:list_lenght:2]) #prints even numbers greater than or equal to 0"
      ],
      "execution_count": null,
      "outputs": [
        {
          "output_type": "stream",
          "name": "stdout",
          "text": [
            "[0, 2, 4]\n"
          ]
        }
      ]
    },
    {
      "cell_type": "markdown",
      "metadata": {
        "id": "AZqQd0K8TYul"
      },
      "source": [
        "The slice starts from the first element indicated, but excludes the last element indicated. "
      ]
    },
    {
      "cell_type": "code",
      "metadata": {
        "colab": {
          "base_uri": "https://localhost:8080/"
        },
        "id": "0-76sLfkOqii",
        "outputId": "2c633fa7-9fba-42ef-9915-c1c7217e375a"
      },
      "source": [
        "my_list = [-5,-4,-3,-2,-1,0,1,2,3,4,5]\n",
        "print(my_list[6:]) #prints the positive numbers.\n",
        "print(my_list[:5]) #prints the negative numbers."
      ],
      "execution_count": null,
      "outputs": [
        {
          "output_type": "stream",
          "name": "stdout",
          "text": [
            "[1, 2, 3, 4, 5]\n",
            "[-5, -4, -3, -2, -1]\n"
          ]
        }
      ]
    },
    {
      "cell_type": "markdown",
      "metadata": {
        "id": "eAFmM6bkTZz9"
      },
      "source": [
        "If you wish to add or remove an element from a list, you can use the append() and remove() methods for lists as follows:"
      ]
    },
    {
      "cell_type": "code",
      "metadata": {
        "colab": {
          "base_uri": "https://localhost:8080/"
        },
        "id": "pHmgTPElTo19",
        "outputId": "35faf049-7fc0-45c0-8672-b8a94a1683e8"
      },
      "source": [
        "my_list = [1,2]\n",
        "my_list.append(3) #add 3 to the list\n",
        "print(my_list)\n",
        "\n"
      ],
      "execution_count": null,
      "outputs": [
        {
          "output_type": "stream",
          "name": "stdout",
          "text": [
            "[1, 2, 3]\n"
          ]
        }
      ]
    },
    {
      "cell_type": "code",
      "metadata": {
        "colab": {
          "base_uri": "https://localhost:8080/"
        },
        "id": "4C4U1Yf0Tr8l",
        "outputId": "7cc0f2bf-45ed-43af-cb63-2082de9daef2"
      },
      "source": [
        "my_list.remove(1) #removes 1 from the list\n",
        "print(my_list)"
      ],
      "execution_count": null,
      "outputs": [
        {
          "output_type": "stream",
          "name": "stdout",
          "text": [
            "[2, 3]\n"
          ]
        }
      ]
    },
    {
      "cell_type": "markdown",
      "metadata": {
        "id": "11W1gG-cVmOU"
      },
      "source": [
        "When there are repeated instances of \"Hello\", the first one is removed.\n",
        "\n",
        "## Tuple\n",
        "A tuple is a data structure type similar to a list. The difference is that a tuple is immutable, which means you can't change the elements in it once it's defined. We create a tuple by putting comma-separated values between parentheses."
      ]
    },
    {
      "cell_type": "code",
      "metadata": {
        "collapsed": true,
        "id": "vPmn6BAaOqii"
      },
      "source": [
        "my_tuple = (3,2.13,False)"
      ],
      "execution_count": null,
      "outputs": []
    },
    {
      "cell_type": "markdown",
      "metadata": {
        "id": "zMIme4dDV0Wz"
      },
      "source": [
        "Just like a list, a tuple can be sliced by using index."
      ]
    },
    {
      "cell_type": "code",
      "metadata": {
        "colab": {
          "base_uri": "https://localhost:8080/"
        },
        "id": "8P-ddO0sOqii",
        "outputId": "8d10f7d7-3b67-4de0-8a02-edaefc4cfc88"
      },
      "source": [
        "my_tuple = (3,2.13,False)\n",
        "print(my_tuple[1:])"
      ],
      "execution_count": null,
      "outputs": [
        {
          "output_type": "stream",
          "name": "stdout",
          "text": [
            "(2.13, False)\n"
          ]
        }
      ]
    },
    {
      "cell_type": "markdown",
      "metadata": {
        "id": "l2JqbusAV1Y2"
      },
      "source": [
        "## Set\n",
        "A set is an **unordered**  collection with **no duplicate** elements. The built-in function **set()** can be used to create sets."
      ]
    },
    {
      "cell_type": "code",
      "metadata": {
        "colab": {
          "base_uri": "https://localhost:8080/"
        },
        "id": "Plau8r-UOqij",
        "outputId": "33096ad9-46f7-46ba-ffe2-dc93c251aa8a"
      },
      "source": [
        "stock_list = [1,2,2,2,3,4,5]\n",
        "stock_set = set(stock_list) #function set () saves the list elements in an unordered collection (removes duplicate elements)\n",
        "print(stock_set)"
      ],
      "execution_count": null,
      "outputs": [
        {
          "output_type": "stream",
          "name": "stdout",
          "text": [
            "{1, 2, 3, 4, 5}\n"
          ]
        }
      ]
    },
    {
      "cell_type": "markdown",
      "metadata": {
        "id": "Jyb4GGIoWIHk"
      },
      "source": [
        "Set is an easy way to remove duplicate elements from a list.\n",
        "\n",
        "##Dictionary\n",
        "A dictionary is one of the most important data structures in Python. Unlike sequences which are indexed by integers, dictionaries are indexed by keys which can be either strings or floats.\n",
        "\n",
        "A dictionary is an **unordered** collection of key : value pairs, with the requirement that the keys are unique. We create a dictionary by placing a comma-separated list of key : value pairs within the braces."
      ]
    },
    {
      "cell_type": "code",
      "metadata": {
        "collapsed": true,
        "id": "36mTe5BaOqij"
      },
      "source": [
        "users_emails = {'juan':'jalvaradoc@unal.edu.co', 'pepito':'pepito@gmail.com'}"
      ],
      "execution_count": null,
      "outputs": []
    },
    {
      "cell_type": "markdown",
      "metadata": {
        "id": "gSicoNqDWP4c"
      },
      "source": [
        "After defining a dictionary, we can access any value by indicating its key in brackets."
      ]
    },
    {
      "cell_type": "code",
      "metadata": {
        "colab": {
          "base_uri": "https://localhost:8080/"
        },
        "id": "KUfdVf43Oqij",
        "outputId": "be2e255e-d928-48ae-b8d3-06e45a65ee90"
      },
      "source": [
        "print(users_emails['juan'])  #prints value of 'juan' key"
      ],
      "execution_count": null,
      "outputs": [
        {
          "output_type": "stream",
          "name": "stdout",
          "text": [
            "jalvaradoc@unal.edu.co\n"
          ]
        }
      ]
    },
    {
      "cell_type": "markdown",
      "metadata": {
        "id": "M9sDsTEMWQvc"
      },
      "source": [
        "We can also change the value associated with a specified key:"
      ]
    },
    {
      "cell_type": "code",
      "metadata": {
        "colab": {
          "base_uri": "https://localhost:8080/"
        },
        "id": "IrTZdq9FOqij",
        "outputId": "99b66885-0658-4123-8237-5c481309e667"
      },
      "source": [
        "users_emails['juan'] = 'jualvaradoc@unal.edu.co'  # changes value of 'juan' key\n",
        "print(users_emails['juan'])"
      ],
      "execution_count": null,
      "outputs": [
        {
          "output_type": "stream",
          "name": "stdout",
          "text": [
            "jualvaradoc@unal.edu.co\n"
          ]
        }
      ]
    },
    {
      "cell_type": "markdown",
      "metadata": {
        "id": "VPuDinlwWS9D"
      },
      "source": [
        "The built-in method of the dictionary object dict.keys() returns a list of all the keys used in the dictionary."
      ]
    },
    {
      "cell_type": "code",
      "metadata": {
        "colab": {
          "base_uri": "https://localhost:8080/"
        },
        "id": "lupRHf1_Oqij",
        "outputId": "1012ebcd-9586-4933-a198-77692d60381b"
      },
      "source": [
        "print(users_emails.keys())"
      ],
      "execution_count": null,
      "outputs": [
        {
          "output_type": "stream",
          "name": "stdout",
          "text": [
            "dict_keys(['juan', 'pepito'])\n"
          ]
        }
      ]
    },
    {
      "cell_type": "markdown",
      "metadata": {
        "id": "kSGzgNb2Womz"
      },
      "source": [
        "# Common String Operations\n",
        "A string is an immutable sequence of characters. It can be sliced by index just like a tuple:"
      ]
    },
    {
      "cell_type": "code",
      "metadata": {
        "colab": {
          "base_uri": "https://localhost:8080/"
        },
        "id": "xPojDnm9Oqik",
        "outputId": "d35b0a46-63cc-4fa7-fa61-0e2096a4b2ec"
      },
      "source": [
        "my_str = 'Juan Camilo Alvarado Caro'\n",
        "print(my_str[12:]) #prints names\n",
        "print(my_str[:11]) #prints last name"
      ],
      "execution_count": null,
      "outputs": [
        {
          "output_type": "stream",
          "name": "stdout",
          "text": [
            "Alvarado Caro\n",
            "Juan Camilo\n"
          ]
        }
      ]
    },
    {
      "cell_type": "markdown",
      "metadata": {
        "id": "wuJYy7tvWtM7"
      },
      "source": [
        "There are many methods associated with strings. We can use string.count() to count the occurrences of a character in a string, use string.find() to return the index of a specific character, and use string.replace() to replace characters"
      ]
    },
    {
      "cell_type": "code",
      "metadata": {
        "colab": {
          "base_uri": "https://localhost:8080/"
        },
        "id": "u9deZq1SOqik",
        "outputId": "15198eb1-a601-4503-fb09-7961bd5d5a79"
      },
      "source": [
        "print('Barcelona'.count('e'))\n",
        "print('paris'.find('e'))\n",
        "print('alejandro'.replace('o','a'))"
      ],
      "execution_count": null,
      "outputs": [
        {
          "output_type": "stream",
          "name": "stdout",
          "text": [
            "1\n",
            "-1\n",
            "alejandra\n"
          ]
        }
      ]
    },
    {
      "cell_type": "markdown",
      "metadata": {
        "id": "sJPn3rkvWwHN"
      },
      "source": [
        "The most commonly used method for strings is string.split(). This method will split the string by the indicated character and return a list:"
      ]
    },
    {
      "cell_type": "code",
      "metadata": {
        "colab": {
          "base_uri": "https://localhost:8080/"
        },
        "id": "hbIaFLFHOqik",
        "outputId": "7a437fb5-a09d-49d8-cd0d-c60d183ac23b"
      },
      "source": [
        "axes = '4 2'\n",
        "splited_list = axes.split(' ')  #split() function splits the string by the spaces and return a list\n",
        "x_axis = splited_list[0]\n",
        "y_axis = splited_list[1]\n",
        "print(\"x = \"+x_axis) # prints value of x\n",
        "print(\"y = \"+y_axis) # prints value of y\n"
      ],
      "execution_count": null,
      "outputs": [
        {
          "output_type": "stream",
          "name": "stdout",
          "text": [
            "x = 4\n",
            "y = 2\n"
          ]
        }
      ]
    },
    {
      "cell_type": "markdown",
      "metadata": {
        "id": "9cJQGk96WyVc"
      },
      "source": [
        "We can replace parts of a string by our variable. This is called string formatting."
      ]
    },
    {
      "cell_type": "code",
      "metadata": {
        "colab": {
          "base_uri": "https://localhost:8080/"
        },
        "id": "-E_rIvv6Oqik",
        "outputId": "791c53b7-e5d9-4476-c667-4dd89175028b"
      },
      "source": [
        "axes = 'x={} , y={}'.format('9.23','4')\n",
        "print(axes)"
      ],
      "execution_count": null,
      "outputs": [
        {
          "output_type": "stream",
          "name": "stdout",
          "text": [
            "x=9.23 , y=4\n"
          ]
        }
      ]
    },
    {
      "cell_type": "markdown",
      "metadata": {
        "id": "1_NbVldpWzAs"
      },
      "source": [
        "Another way to format a string is to use the % symbol."
      ]
    },
    {
      "cell_type": "code",
      "metadata": {
        "colab": {
          "base_uri": "https://localhost:8080/"
        },
        "id": "4rZ4rkD2Oqik",
        "outputId": "2d201a61-80e2-45d2-9027-ff87ae9d365a"
      },
      "source": [
        "my_string = 'Juan Camilo'\n",
        "print('My name is %s'%my_string)"
      ],
      "execution_count": null,
      "outputs": [
        {
          "output_type": "stream",
          "name": "stdout",
          "text": [
            "My name is Juan Camilo\n"
          ]
        }
      ]
    },
    {
      "cell_type": "markdown",
      "metadata": {
        "id": "v_5cocrDW3MN"
      },
      "source": [
        "# Summary\n",
        "\n",
        "Weave seen the basic data types and data structures in Python. It's important to keep practicing to become familiar with these data structures. In the next tutorial, we will cover for and while loops and logical operations in Python."
      ]
    },
    {
      "cell_type": "markdown",
      "metadata": {
        "id": "QL6dNxwCXNEt"
      },
      "source": [
        "<div align=\"center\">\n",
        "<img style=\"display: block; margin: auto;\" alt=\"photo\" src=\"https://cdn.quantconnect.com/web/i/icon.png\">\n",
        "\n",
        "Quantconnect\n",
        "\n",
        "Introduction to Financial Python\n",
        "</div>\n",
        "\n",
        "# 02 Logical Operations and Loops\n",
        "\n",
        "# Introduction\n",
        "We discussed the basic data types and data structures in Python in the last tutorial. This chapter covers logical operations and loops in Python, which are very common in programming.\n",
        "\n",
        "# Logical Operations\n",
        "Like most programming languages, Python has comparison operators:"
      ]
    },
    {
      "cell_type": "code",
      "metadata": {
        "colab": {
          "base_uri": "https://localhost:8080/"
        },
        "id": "70Guys_rOv7a",
        "outputId": "0755bcf8-5fb7-4c2b-a04b-0c6fac09ba90"
      },
      "source": [
        "print(1 == 0)\n",
        "print(1 == 1)\n",
        "print(1 != 0)\n",
        "print(5 >= 5)\n",
        "print(5 > 5)\n",
        "print(5 >= 6)"
      ],
      "execution_count": null,
      "outputs": [
        {
          "output_type": "stream",
          "name": "stdout",
          "text": [
            "False\n",
            "True\n",
            "True\n",
            "True\n",
            "False\n",
            "False\n"
          ]
        }
      ]
    },
    {
      "cell_type": "markdown",
      "metadata": {
        "id": "8aFHYDj-YTXt"
      },
      "source": [
        "Each statement above has a boolean value, which must be either True or False, but not both.\n",
        "\n",
        "We can combine simple statements P and Q to form complex statements using logical operators:\n",
        "\n",
        "- The statement \"P and Q\" is true if both P and Q are true, otherwise it is false.\n",
        "- The statement \"P or Q\" is false if both P and Q are false, otherwise it is true.\n",
        "- The statement \"not P\" is true if P is false, and vice versa."
      ]
    },
    {
      "cell_type": "code",
      "metadata": {
        "colab": {
          "base_uri": "https://localhost:8080/"
        },
        "id": "O5YEEcUbOv7d",
        "outputId": "aba11b1b-5ca6-4735-cfb2-6f7d790d7494"
      },
      "source": [
        "my_int1 = 1\n",
        "my_int2 = 5\n",
        "print(my_int2 > 4)  # 5>4 = true\n",
        "print(my_int2 > 4 and my_int1 > 4)\n",
        "print(my_int2 > 4 or my_int1 > 4)"
      ],
      "execution_count": null,
      "outputs": [
        {
          "output_type": "stream",
          "name": "stdout",
          "text": [
            "True\n",
            "False\n",
            "True\n"
          ]
        }
      ]
    },
    {
      "cell_type": "markdown",
      "metadata": {
        "id": "Dy7yzoSXYXmL"
      },
      "source": [
        "When dealing with a very complex logical statement that involves in several statements, we can use brackets to separate and combine them."
      ]
    },
    {
      "cell_type": "code",
      "metadata": {
        "colab": {
          "base_uri": "https://localhost:8080/"
        },
        "id": "QZ-W2xJZOv7d",
        "outputId": "e7c41320-7178-46c9-94ae-cca4fa76abba"
      },
      "source": [
        "my_int1 = 2\n",
        "my_int2 = 5\n",
        "print((my_int2 > 3 and my_int2 < 10) or my_int1==1)  # True or False = True"
      ],
      "execution_count": null,
      "outputs": [
        {
          "output_type": "stream",
          "name": "stdout",
          "text": [
            "True\n"
          ]
        }
      ]
    },
    {
      "cell_type": "markdown",
      "metadata": {
        "id": "s95xoRYMYaPD"
      },
      "source": [
        "Comparing the above two statements, we can see that it's wise to use brackets when we make a complex logical statement.\n",
        "\n",
        "# If Statement\n",
        "An if statement executes a segment of code only if its condition is true. A standard if statement consists of 3 segments: if, elif and else."
      ]
    },
    {
      "cell_type": "markdown",
      "metadata": {
        "id": "aRzMMitAaBOL"
      },
      "source": [
        "```python\n",
        "if statement1:\n",
        "    # if the statement1 is true, execute the code here.\n",
        "    # code.....\n",
        "    # code.....\n",
        "elif statement2:\n",
        "    # if the statement 1 is false, skip the codes above to this part.\n",
        "    # code......\n",
        "    # code......\n",
        "else:\n",
        "    # if none of the above statements is True, skip to this part\n",
        "    # code......\n",
        "```"
      ]
    },
    {
      "cell_type": "markdown",
      "metadata": {
        "id": "l59R2AS8aH2K"
      },
      "source": [
        "An if statement doesn't necessarily has elif and else part. If it's not specified, the indented block of code will be executed when the condition is true, otherwise the whole if statement will be skipped."
      ]
    },
    {
      "cell_type": "code",
      "metadata": {
        "colab": {
          "base_uri": "https://localhost:8080/"
        },
        "id": "FZ5GoTXfOv7e",
        "outputId": "6528e866-42df-4162-c96f-a1cd0102723d"
      },
      "source": [
        "i = 5\n",
        "if i > 3:   # if i <= 3, if statement will be skipped.\n",
        "    print(str(i) + ' > 3 is True')"
      ],
      "execution_count": null,
      "outputs": [
        {
          "output_type": "stream",
          "name": "stdout",
          "text": [
            "5 > 3 is True\n"
          ]
        }
      ]
    },
    {
      "cell_type": "markdown",
      "metadata": {
        "id": "nPNW-l5eaJn8"
      },
      "source": [
        "As we mentioned above, we can write some complex statements here:"
      ]
    },
    {
      "cell_type": "code",
      "metadata": {
        "colab": {
          "base_uri": "https://localhost:8080/"
        },
        "id": "gh-U6nMzOv7e",
        "outputId": "d0c72b37-aa38-4705-9598-4c50467594f4"
      },
      "source": [
        "Integer_1 = 3\n",
        "Integer_2 = 7\n",
        "p = Integer_2 < 6   #(False)\n",
        "q = Integer_1 > 3   #(False)\n",
        "if p and q:\n",
        "    print('p and q is true')\n",
        "elif p and not q:\n",
        "    print('q is false')\n",
        "elif q and not p:\n",
        "    print('p is false')\n",
        "else:\n",
        "    print('None of p and q is true')"
      ],
      "execution_count": null,
      "outputs": [
        {
          "output_type": "stream",
          "name": "stdout",
          "text": [
            "None of p and q is true\n"
          ]
        }
      ]
    },
    {
      "cell_type": "markdown",
      "metadata": {
        "id": "tgRDwiAsaMOL"
      },
      "source": [
        "# Loop Structure\n",
        "Loops are an essential part of programming. The \"for\" and \"while\" loops run a block of code repeatedly.\n",
        "\n",
        "## While Loop\n",
        "A \"while\" loop will run repeatedly until a certain condition has been met."
      ]
    },
    {
      "cell_type": "code",
      "metadata": {
        "colab": {
          "base_uri": "https://localhost:8080/"
        },
        "id": "uQLau8d5Ov7f",
        "outputId": "f8a89e9f-3034-4a57-d859-483cdb12f786"
      },
      "source": [
        "i = 0\n",
        "while i < 11:    #print even numbers from 0 to 10\n",
        "    print(i)\n",
        "    i += 2 "
      ],
      "execution_count": null,
      "outputs": [
        {
          "output_type": "stream",
          "name": "stdout",
          "text": [
            "0\n",
            "2\n",
            "4\n",
            "6\n",
            "8\n",
            "10\n"
          ]
        }
      ]
    },
    {
      "cell_type": "markdown",
      "metadata": {
        "id": "ydLddFAPaTOE"
      },
      "source": [
        "When making a while loop, we need to ensure that something changes from iteration to iteration so that the while loop will terminate, otherwise, it will run forever. Here we used i += 1 (short for i = i + 1) to make i larger after each iteration. This is the most commonly used method to control a while loop.\n",
        "\n",
        "## For Loop\n",
        "A \"for\" loop will iterate over a sequence of value and terminate when the sequence has ended."
      ]
    },
    {
      "cell_type": "code",
      "metadata": {
        "colab": {
          "base_uri": "https://localhost:8080/"
        },
        "id": "kt8Ie8u1Ov7f",
        "outputId": "4eaa03a8-8e88-407b-b332-2de61f1e2bcc"
      },
      "source": [
        "numbers = [1,2,3,4,5]\n",
        "for i in numbers:\n",
        "    print(str(i)+\" \",end='')"
      ],
      "execution_count": null,
      "outputs": [
        {
          "output_type": "stream",
          "name": "stdout",
          "text": [
            "1 2 3 4 5 "
          ]
        }
      ]
    },
    {
      "cell_type": "markdown",
      "metadata": {
        "id": "yWStqpreaX-T"
      },
      "source": [
        "We can also add if statements in a for loop. "
      ]
    },
    {
      "cell_type": "code",
      "metadata": {
        "colab": {
          "base_uri": "https://localhost:8080/"
        },
        "id": "kElmffvFOv7f",
        "outputId": "30cc13bb-cd7b-445f-ec42-db42a7227126"
      },
      "source": [
        "numbers = [2,13,3,24,53,64,12,16]\n",
        "even_numbers = []\n",
        "for i in numbers:\n",
        "    if i % 2==0:  #if i is even, is added to the list\n",
        "        even_numbers.append(i)\n",
        "print(even_numbers)"
      ],
      "execution_count": null,
      "outputs": [
        {
          "output_type": "stream",
          "name": "stdout",
          "text": [
            "[2, 24, 64, 12, 16]\n"
          ]
        }
      ]
    },
    {
      "cell_type": "markdown",
      "metadata": {
        "id": "wb2hry9dahE0"
      },
      "source": [
        "Here we iterated all the elements in the list 'stocks'. Later in this chapter, we will introduce a smarter way to do this, which is just a one-line code.\n",
        "\n",
        "## Break and continue\n",
        "These are two commonly used commands in a for loop. If \"break\" is triggered while a loop is executing, the loop will terminate immediately:"
      ]
    },
    {
      "cell_type": "code",
      "metadata": {
        "colab": {
          "base_uri": "https://localhost:8080/"
        },
        "id": "yF5wMVItOv7g",
        "outputId": "d2f62c1a-9476-4f94-a51d-817b9bbc9fe9"
      },
      "source": [
        "numbers = [1,3,5,6,12,14,16,19,20,23]\n",
        "for i in numbers:\n",
        "    if i > 12:\n",
        "        break\n",
        "    print(i)\n",
        "    "
      ],
      "execution_count": null,
      "outputs": [
        {
          "output_type": "stream",
          "name": "stdout",
          "text": [
            "1\n",
            "3\n",
            "5\n",
            "6\n",
            "12\n"
          ]
        }
      ]
    },
    {
      "cell_type": "markdown",
      "metadata": {
        "id": "R0toxyp3ao0T"
      },
      "source": [
        "The \"continue\" command tells the loop to end this iteration and skip to the next iteration:"
      ]
    },
    {
      "cell_type": "code",
      "metadata": {
        "colab": {
          "base_uri": "https://localhost:8080/"
        },
        "id": "Stg-CH6IOv7g",
        "outputId": "82c54441-bde5-4eaf-ff5c-78d31f70be91"
      },
      "source": [
        "numbers = [2,13,3,24,53,64,12,16]\n",
        "for i in numbers:\n",
        "    if i%2 != 0:  #if i is even, print i\n",
        "        continue\n",
        "    print(i)"
      ],
      "execution_count": null,
      "outputs": [
        {
          "output_type": "stream",
          "name": "stdout",
          "text": [
            "2\n",
            "24\n",
            "64\n",
            "12\n",
            "16\n"
          ]
        }
      ]
    },
    {
      "cell_type": "markdown",
      "metadata": {
        "id": "4NusvdhBaxpZ"
      },
      "source": [
        "# List Comprehension\n",
        "List comprehension is a Pythonic way to create lists. Common applications are to make new lists where each element is the result of some operations applied to each member of another sequence. For example, if we want to create a list of squares using for loop:"
      ]
    },
    {
      "cell_type": "code",
      "metadata": {
        "colab": {
          "base_uri": "https://localhost:8080/"
        },
        "id": "bdxxeOABOv7h",
        "outputId": "5fc08f8c-ac48-4424-a008-039dbdc8aa5e"
      },
      "source": [
        "numbers = [1,2,3,4,5]\n",
        "squares = []\n",
        "for i in numbers:\n",
        "    squares.append(i**2)\n",
        "print(numbers)    \n",
        "print(squares)"
      ],
      "execution_count": null,
      "outputs": [
        {
          "output_type": "stream",
          "name": "stdout",
          "text": [
            "[1, 2, 3, 4, 5]\n",
            "[1, 4, 9, 16, 25]\n"
          ]
        }
      ]
    },
    {
      "cell_type": "markdown",
      "metadata": {
        "id": "--KliJBOa1CC"
      },
      "source": [
        "Using list comprehension:"
      ]
    },
    {
      "cell_type": "code",
      "metadata": {
        "colab": {
          "base_uri": "https://localhost:8080/"
        },
        "id": "440-yjG8Ov7h",
        "outputId": "14f63202-b7e3-4a0f-f915-edf8ae33f155"
      },
      "source": [
        "numbers = [1,2,3,4,5]\n",
        "squares = [x**2 for x in numbers]\n",
        "print(numbers)\n",
        "print(squares)"
      ],
      "execution_count": null,
      "outputs": [
        {
          "output_type": "stream",
          "name": "stdout",
          "text": [
            "[1, 2, 3, 4, 5]\n",
            "[1, 4, 9, 16, 25]\n"
          ]
        }
      ]
    },
    {
      "cell_type": "markdown",
      "metadata": {
        "id": "EPeUv6Lia5oD"
      },
      "source": [
        "A list comprehension consists of square brackets containing an expression followed by a \"for\" clause, and possibly \"for\" or \"if\" clauses. For example:"
      ]
    },
    {
      "cell_type": "code",
      "metadata": {
        "colab": {
          "base_uri": "https://localhost:8080/"
        },
        "id": "O1AMB5d7Ov7i",
        "outputId": "146bb9fa-e9ca-4829-f0f7-562ed11fe081"
      },
      "source": [
        "list_1=[1,2,4,6]\n",
        "print([i for i in list_1  if i%2==0])  # print even numbers in list"
      ],
      "execution_count": null,
      "outputs": [
        {
          "output_type": "stream",
          "name": "stdout",
          "text": [
            "[2, 4, 6]\n"
          ]
        }
      ]
    },
    {
      "cell_type": "markdown",
      "metadata": {
        "id": "jJpvq-o4a8P7"
      },
      "source": [
        "List comprehension is an elegant way to organize one or more for loops when creating a list.\n",
        "\n",
        "# Summary\n",
        "This chapter has introduced logical operations, loops, and list comprehension. In the next chapter, we will introduce functions and object-oriented programming, which will enable us to make our codes clean and versatile."
      ]
    },
    {
      "cell_type": "markdown",
      "metadata": {
        "id": "Tef_X2wJbdhn"
      },
      "source": [
        "<div align=\"center\">\n",
        "<img style=\"display: block; margin: auto;\" alt=\"photo\" src=\"https://cdn.quantconnect.com/web/i/icon.png\">\n",
        "\n",
        "Quantconnect\n",
        "\n",
        "Introduction to Financial Python\n",
        "</div>\n",
        "\n",
        "# 03 Functions and Objective-Oriented Programming\n",
        "\n",
        "# Introduction\n",
        "\n",
        "In the last tutorial we introduced logical operations, loops and list comprehension. We will introduce functions and object-oriented programming in this chapter, which will enable us to build complex algorithms in more flexible ways.\n",
        "\n",
        "# Functions\n",
        "A function is a reusable block of code. We can use a function to output a value, or do anything else we want. We can easily define our own function by using the keyword \"def\"."
      ]
    },
    {
      "cell_type": "code",
      "metadata": {
        "colab": {
          "base_uri": "https://localhost:8080/"
        },
        "id": "eE_NkTiSO2PO",
        "outputId": "d78ba360-d86d-4b5c-d7b7-61dbca29bbaa"
      },
      "source": [
        "def equals(x,y):\n",
        "    if x==y:\n",
        "      return True\n",
        "    else:\n",
        "      return False  \n",
        "print(equals(3,3))   # 3==3 = True\n",
        "print(equals(5,10))  # 5==10 = False"
      ],
      "execution_count": null,
      "outputs": [
        {
          "output_type": "stream",
          "name": "stdout",
          "text": [
            "True\n",
            "False\n"
          ]
        }
      ]
    },
    {
      "cell_type": "markdown",
      "metadata": {
        "id": "4oRU_dVJbsdD"
      },
      "source": [
        "The keyword \"def\" is followed by the function name and the parenthesized list of formal parameters. The statements that form the body of the function start at the next line, and must be indented. The product() function above has \"x\" and \"y\" as its parameters. A function doesn't necessarily have parameters:"
      ]
    },
    {
      "cell_type": "code",
      "metadata": {
        "colab": {
          "base_uri": "https://localhost:8080/"
        },
        "id": "JhdWVLbUO2PQ",
        "outputId": "a8038504-5577-46c5-e2b1-5903ebac0b0a"
      },
      "source": [
        "def name():\n",
        "    print('Juan Camilo')\n",
        "print('My name is ', end='')\n",
        "name()"
      ],
      "execution_count": null,
      "outputs": [
        {
          "output_type": "stream",
          "name": "stdout",
          "text": [
            "My name is Juan Camilo\n"
          ]
        }
      ]
    },
    {
      "cell_type": "markdown",
      "metadata": {
        "id": "lHwqVpWVb1Jr"
      },
      "source": [
        "# Built-in Function\n",
        "**range()** is a function that creates a list containing an arithmetic sequence. It's often used in for loops. The arguments must be integers. If the \"step\" argument is omitted, it defaults to 1."
      ]
    },
    {
      "cell_type": "code",
      "metadata": {
        "colab": {
          "base_uri": "https://localhost:8080/"
        },
        "id": "VVOTELcIO2PQ",
        "outputId": "b8f97b3c-949c-4c08-ef7d-c27bc065d1ed"
      },
      "source": [
        "print(range(10))\n",
        "print(range(1,11))\n",
        "print(range(1,11,2))\n",
        "\n",
        "for x in range (0,11,2): #(step argument is 2)\n",
        "  print(x)"
      ],
      "execution_count": null,
      "outputs": [
        {
          "output_type": "stream",
          "name": "stdout",
          "text": [
            "range(0, 10)\n",
            "range(1, 11)\n",
            "range(1, 11, 2)\n",
            "0\n",
            "2\n",
            "4\n",
            "6\n",
            "8\n",
            "10\n"
          ]
        }
      ]
    },
    {
      "cell_type": "markdown",
      "metadata": {
        "id": "PD0cSgiwcQ4L"
      },
      "source": [
        "**len()** is another function used together with range() to create a for loop. This function returns the length of an object. The argument must be a sequence or a collection."
      ]
    },
    {
      "cell_type": "code",
      "metadata": {
        "colab": {
          "base_uri": "https://localhost:8080/"
        },
        "id": "Hg18c7v-O2PR",
        "outputId": "0deed66e-76a7-418f-cbb8-e6dd53df786a"
      },
      "source": [
        "list_1 = [0,1,2,3,4,5]\n",
        "print('The length of list_1 is '+ str(len(list_1)))\n",
        "for i in range(len(list_1)): #range is (0,6)\n",
        "    print(list_1[i])"
      ],
      "execution_count": null,
      "outputs": [
        {
          "output_type": "stream",
          "name": "stdout",
          "text": [
            "The length of list_1 is 6\n",
            "0\n",
            "1\n",
            "2\n",
            "3\n",
            "4\n",
            "5\n"
          ]
        }
      ]
    },
    {
      "cell_type": "markdown",
      "metadata": {
        "id": "OIQSuub1cWgi"
      },
      "source": [
        "Note: If you want to print only the tickers without those numbers, then simply write \"for ticker in tickers: print ticker\"\n",
        "\n",
        "**map(**) is a function that applies a specific function to every item of a sequence or collection, and returns a list of the results."
      ]
    },
    {
      "cell_type": "markdown",
      "metadata": {
        "id": "pqPuspeG5HAi"
      },
      "source": [
        "Because list at the moment is [1,2,3,4,5] and overwriting list() from builtins we del list"
      ]
    },
    {
      "cell_type": "code",
      "metadata": {
        "colab": {
          "base_uri": "https://localhost:8080/"
        },
        "id": "caV9c-qk4_eZ",
        "outputId": "eab15571-88f4-4b43-e2fc-7d02b653ee20"
      },
      "source": [
        "list = [1,2,3,4,5]\n",
        "print(list)\n",
        "del list\n",
        "list\n"
      ],
      "execution_count": null,
      "outputs": [
        {
          "output_type": "stream",
          "name": "stdout",
          "text": [
            "[1, 2, 3, 4, 5]\n"
          ]
        },
        {
          "output_type": "execute_result",
          "data": {
            "text/plain": [
              "list"
            ]
          },
          "metadata": {},
          "execution_count": 38
        }
      ]
    },
    {
      "cell_type": "code",
      "metadata": {
        "colab": {
          "base_uri": "https://localhost:8080/"
        },
        "id": "lJBs5ECT4mSq",
        "outputId": "70a6cee9-297f-4cd1-9ea3-e805cfdd9242"
      },
      "source": [
        "def equals_3(x):\n",
        "    if x==3:\n",
        "      return True\n",
        "    else:\n",
        "      return False  \n",
        "\n",
        "tickers = [1,2,3,4,5]\n",
        "list(map(equals_3,tickers))  # return list of boolean values   (2==3 = False, 3==3 = True ) "
      ],
      "execution_count": null,
      "outputs": [
        {
          "output_type": "execute_result",
          "data": {
            "text/plain": [
              "[False, False, True, False, False]"
            ]
          },
          "metadata": {},
          "execution_count": 41
        }
      ]
    },
    {
      "cell_type": "markdown",
      "metadata": {
        "id": "mvr06UM7ca7b"
      },
      "source": [
        "The **lambda operator** is a way to create small anonymous functions. These functions are just needed where they have been created. For example:"
      ]
    },
    {
      "cell_type": "code",
      "metadata": {
        "colab": {
          "base_uri": "https://localhost:8080/"
        },
        "id": "pAEHADYXO2PR",
        "outputId": "f62ca22d-d6b2-4163-a50a-55544c4d5b98"
      },
      "source": [
        "my_list = [0,1,2,3,4,5]\n",
        "list(map(lambda x: x**2, my_list))  #square function"
      ],
      "execution_count": null,
      "outputs": [
        {
          "output_type": "execute_result",
          "data": {
            "text/plain": [
              "[0, 1, 4, 9, 16, 25]"
            ]
          },
          "metadata": {},
          "execution_count": 43
        }
      ]
    },
    {
      "cell_type": "markdown",
      "metadata": {
        "id": "Mgixpxomcj3T"
      },
      "source": [
        "map() can be applied to more than one list. The lists have to have the same length."
      ]
    },
    {
      "cell_type": "code",
      "metadata": {
        "colab": {
          "base_uri": "https://localhost:8080/"
        },
        "id": "HtckhAaJO2PS",
        "outputId": "94df8c63-e1d9-4c80-bde3-39226faeb453"
      },
      "source": [
        "list(map(lambda x, y: x == y, [1,2,3,4,5],[5,4,3,2,1]))  # compare values of two lists"
      ],
      "execution_count": null,
      "outputs": [
        {
          "output_type": "execute_result",
          "data": {
            "text/plain": [
              "[False, False, True, False, False]"
            ]
          },
          "metadata": {},
          "execution_count": 44
        }
      ]
    },
    {
      "cell_type": "markdown",
      "metadata": {
        "id": "ZDnMTH-KcklT"
      },
      "source": [
        "**sorted()** takes a list or set and returns a new sorted list"
      ]
    },
    {
      "cell_type": "code",
      "metadata": {
        "colab": {
          "base_uri": "https://localhost:8080/"
        },
        "id": "P0sHUMFWO2PS",
        "outputId": "c2e485c7-3260-4aa9-cc92-946eaee4eba9"
      },
      "source": [
        "sorted([5,2,3,4,1])"
      ],
      "execution_count": null,
      "outputs": [
        {
          "output_type": "execute_result",
          "data": {
            "text/plain": [
              "[1, 2, 3, 4, 5]"
            ]
          },
          "metadata": {},
          "execution_count": 45
        }
      ]
    },
    {
      "cell_type": "markdown",
      "metadata": {
        "id": "-N5_EDOFcnsc"
      },
      "source": [
        "We can add a \"key\" parameter to specify a function to be called on each list element prior to making comparisons. For example:"
      ]
    },
    {
      "cell_type": "code",
      "metadata": {
        "colab": {
          "base_uri": "https://localhost:8080/"
        },
        "id": "0i3peZ0bO2PS",
        "outputId": "b2fdf0c9-0ac0-4d8d-f753-d54a58e015f2"
      },
      "source": [
        "users_age = [('juan',12),('GOOG',30),('MSFT',17)]\n",
        "sorted(users_age, key = lambda x: x[1])  #sort the list by age in ascending order"
      ],
      "execution_count": null,
      "outputs": [
        {
          "output_type": "execute_result",
          "data": {
            "text/plain": [
              "[('juan', 12), ('MSFT', 17), ('GOOG', 30)]"
            ]
          },
          "metadata": {},
          "execution_count": 48
        }
      ]
    },
    {
      "cell_type": "markdown",
      "metadata": {
        "id": "yun2zptKcxe_"
      },
      "source": [
        "By default the values are sorted by ascending order. We can change it to descending by adding an optional parameter \"reverse'."
      ]
    },
    {
      "cell_type": "code",
      "metadata": {
        "colab": {
          "base_uri": "https://localhost:8080/"
        },
        "id": "dEZqdl94O2PT",
        "outputId": "b2b1f50c-9af4-4799-9c74-a2ee4ae11ded"
      },
      "source": [
        "users_age = [('juan',12),('GOOG',30),('MSFT',17)]\n",
        "sorted(users_age, key = lambda x: x[1], reverse=True)  #sort the list by age in descending order"
      ],
      "execution_count": null,
      "outputs": [
        {
          "output_type": "execute_result",
          "data": {
            "text/plain": [
              "[('GOOG', 30), ('MSFT', 17), ('juan', 12)]"
            ]
          },
          "metadata": {},
          "execution_count": 49
        }
      ]
    },
    {
      "cell_type": "markdown",
      "metadata": {
        "id": "OA2wYAa0c6Dn"
      },
      "source": [
        "Lists also have a function list.sort(). This function takes the same \"key\" and \"reverse\" arguments as sorted(), but it doesn't return a new list."
      ]
    },
    {
      "cell_type": "code",
      "metadata": {
        "colab": {
          "base_uri": "https://localhost:8080/"
        },
        "id": "pG9VQCLnO2PT",
        "outputId": "913b5d61-cdce-4bfc-dc85-2ef30290f591"
      },
      "source": [
        "price_list = [5,2,3,4,1]\n",
        "price_list.sort()   #sort() function doesn't return a new list\n",
        "print(price_list)   #pprint sorted list"
      ],
      "execution_count": null,
      "outputs": [
        {
          "output_type": "stream",
          "name": "stdout",
          "text": [
            "[1, 2, 3, 4, 5]\n"
          ]
        }
      ]
    },
    {
      "cell_type": "markdown",
      "metadata": {
        "id": "mxljL1W1c_c5"
      },
      "source": [
        "# Object-Oriented Programming\n",
        "Python is an object-oriented programming language. It's important to understand the concept of \"objects\" because almost every kind of data from QuantConnect API is an object.\n",
        "\n",
        "## Class\n",
        "A class is a type of data, just like a string, float, or list. When we create an object of that data type, we call it an instance of a class.\n",
        "\n",
        "In Python, everything is an object - everything is an instance of some class. The data stored inside an object are called attributes, and the functions which are associated with the object are called methods.\n",
        "\n",
        "For example, as mentioned above, a list is an object of the \"list\" class, and it has a method list.sort().\n",
        "\n",
        "We can create our own objects by defining a class. We would do this when it's helpful to group certain functions together. For example, we define a class named \"Person\" here:"
      ]
    },
    {
      "cell_type": "code",
      "metadata": {
        "id": "zC4Y4PgDO2PT",
        "colab": {
          "base_uri": "https://localhost:8080/"
        },
        "outputId": "33ff03ab-ea65-4c0a-af84-85f86fc777b0"
      },
      "source": [
        "class Person:\n",
        "  def __init__(person, name, id, email):\n",
        "    person.name = name\n",
        "    person.id = id\n",
        "    person.email = email\n",
        "\n",
        "  def get_email(person):\n",
        "    print(\"email: \" + str(person.email))\n",
        "\n",
        "  def update_email(person,email):\n",
        "    person.email = email\n",
        "    print(\"email changed\")  \n",
        "\n",
        "p1 = Person(\"John\", 36929391,\"pepitp@gmail.com\")\n",
        "p1.get_email()   # print Johns email\n",
        "\n",
        "p1.update_email(\"hello@unal.edu.co\") #update Johns email\n",
        "p1.get_email()   # print Johns email"
      ],
      "execution_count": null,
      "outputs": [
        {
          "output_type": "stream",
          "name": "stdout",
          "text": [
            "email: pepitp@gmail.com\n",
            "email changed\n",
            "email: hello@unal.edu.co\n"
          ]
        }
      ]
    },
    {
      "cell_type": "markdown",
      "metadata": {
        "id": "Q8fl7keNdVKF"
      },
      "source": [
        "By calling the update() function, we updated the open and close prices of a stock. Please note that when we use the attributes or call the methods **inside a class**, we need to specify them as self.attribute or self.method(), otherwise Python will deem them as global variables and thus raise an error.\n",
        "\n",
        "We can add an attribute to an object anywhere:"
      ]
    },
    {
      "cell_type": "code",
      "metadata": {
        "colab": {
          "base_uri": "https://localhost:8080/"
        },
        "id": "rO4OLnqOO2PU",
        "outputId": "fe2762d6-4598-4103-95ed-5f8d231f18b6"
      },
      "source": [
        "p1.age = 19\n",
        "p1.username='jalvaradoc'\n",
        "print(\"age: \"+str(p1.age))\n",
        "print(\"username: \"+str(p1.username))\n"
      ],
      "execution_count": null,
      "outputs": [
        {
          "output_type": "stream",
          "name": "stdout",
          "text": [
            "age: 19\n",
            "username: jalvaradoc\n"
          ]
        }
      ]
    },
    {
      "cell_type": "markdown",
      "metadata": {
        "id": "WyfnFgVidh4J"
      },
      "source": [
        "We can check what names (i.e. attributes and methods) are defined on an object using the dir() function:"
      ]
    },
    {
      "cell_type": "code",
      "metadata": {
        "colab": {
          "base_uri": "https://localhost:8080/"
        },
        "id": "pPoz0LA8O2PU",
        "outputId": "858e8a05-ff8a-4fc1-9b7a-43575d57381e"
      },
      "source": [
        "dir(Person)"
      ],
      "execution_count": null,
      "outputs": [
        {
          "output_type": "execute_result",
          "data": {
            "text/plain": [
              "['__class__',\n",
              " '__delattr__',\n",
              " '__dict__',\n",
              " '__dir__',\n",
              " '__doc__',\n",
              " '__eq__',\n",
              " '__format__',\n",
              " '__ge__',\n",
              " '__getattribute__',\n",
              " '__gt__',\n",
              " '__hash__',\n",
              " '__init__',\n",
              " '__init_subclass__',\n",
              " '__le__',\n",
              " '__lt__',\n",
              " '__module__',\n",
              " '__ne__',\n",
              " '__new__',\n",
              " '__reduce__',\n",
              " '__reduce_ex__',\n",
              " '__repr__',\n",
              " '__setattr__',\n",
              " '__sizeof__',\n",
              " '__str__',\n",
              " '__subclasshook__',\n",
              " '__weakref__',\n",
              " 'get_email',\n",
              " 'update_email']"
            ]
          },
          "metadata": {},
          "execution_count": 14
        }
      ]
    },
    {
      "cell_type": "markdown",
      "metadata": {
        "id": "Qpemj1UZd2aa"
      },
      "source": [
        "## Inheritance\n",
        "Inheritance is a way of arranging classes in a hierarchy from the most general to the most specific. A \"child\" class is a more specific type of a \"parent\" class because a child class will inherit all the attribues and methods of its parent. For example, we define a class named \"Child\" which inherits \"Stock\":"
      ]
    },
    {
      "cell_type": "code",
      "metadata": {
        "id": "UELXnxomO2PV"
      },
      "source": [
        "class Student(Person):\n",
        "    def update_PAPA(student,papa):\n",
        "        student.papa = papa"
      ],
      "execution_count": null,
      "outputs": []
    },
    {
      "cell_type": "code",
      "metadata": {
        "colab": {
          "base_uri": "https://localhost:8080/"
        },
        "id": "ffS2THZyO2PV",
        "outputId": "87cd4b63-dbc6-47ae-a343-b262a8d2161d"
      },
      "source": [
        "p1 = Student(\"Juan\", 1023824123,\"juan@gmail.com\")  #inherited attributes\n",
        "p1.update_PAPA(4.5)    #own method\n",
        "print(p1.email)\n",
        "print(p1.papa)\n"
      ],
      "execution_count": null,
      "outputs": [
        {
          "output_type": "stream",
          "name": "stdout",
          "text": [
            "juan@gmail.com\n",
            "4.5\n"
          ]
        }
      ]
    },
    {
      "cell_type": "markdown",
      "metadata": {
        "id": "pdIEjUv2eJqL"
      },
      "source": [
        "As seen above, the new class Child has inherited the methods from Stock.\n",
        "\n",
        "#Summary\n",
        "\n",
        "In this chapter we have introduced functions and classes. When we write a QuantConnect algorithm, we would define our algorithm as a class (QCAlgorithm). This means our algorithm inherited the QC API methods from QCAlgorithm class.\n",
        "\n",
        "In the next chapter, we will introduce NumPy and Pandas, which enable us to conduct scientific calculations in Python."
      ]
    },
    {
      "cell_type": "markdown",
      "metadata": {
        "id": "dQbENH6mexTd"
      },
      "source": [
        "<div align=\"center\">\n",
        "<img style=\"display: block; margin: auto;\" alt=\"photo\" src=\"https://cdn.quantconnect.com/web/i/icon.png\">\n",
        "\n",
        "Quantconnect\n",
        "\n",
        "Introduction to Financial Python\n",
        "</div>\n",
        "\n",
        "# 04 NumPy and Basic Pandas\n",
        "\n",
        "# Introduction\n",
        "\n",
        "Now that we have introduced the fundamentals of Python, it's time to learn about NumPy and Pandas.\n",
        "\n",
        "# NumPy\n",
        "NumPy is the core library for scientific computing in Python. It provides a high-performance multidimensional array object, and tools for working with these arrays. It also has strong integration with Pandas, which is another powerful tool for manipulating financial data.\n",
        "\n",
        "Python packages like NumPy and Pandas contain classes and methods which we can use by importing the package:"
      ]
    },
    {
      "cell_type": "code",
      "metadata": {
        "id": "aIESp-rdO58h"
      },
      "source": [
        "import numpy as np"
      ],
      "execution_count": null,
      "outputs": []
    },
    {
      "cell_type": "markdown",
      "metadata": {
        "id": "GScHHJ5ke7ea"
      },
      "source": [
        "## Basic NumPy Arrays\n",
        "A NumPy array is a grid of values, all of the same type, and is indexed by a tuple of nonnegative integers. Here we make an array by passing a list of Apple stock prices:"
      ]
    },
    {
      "cell_type": "code",
      "metadata": {
        "colab": {
          "base_uri": "https://localhost:8080/"
        },
        "id": "lZI1wkwDO58i",
        "outputId": "0a00f37b-5793-497f-80ae-69ddd03a52d8"
      },
      "source": [
        "price_list = [22.0,43.50,32.05]\n",
        "price_array = np.array(price_list)    #creates NumPy array\n",
        "print(price_array, type(price_array))   #prints array und data type"
      ],
      "execution_count": null,
      "outputs": [
        {
          "output_type": "stream",
          "name": "stdout",
          "text": [
            "[22.   43.5  32.05] <class 'numpy.ndarray'>\n"
          ]
        }
      ]
    },
    {
      "cell_type": "markdown",
      "metadata": {
        "id": "-5Yj6u9ifB-t"
      },
      "source": [
        "Notice that the type of array is \"ndarray\" which is a multi-dimensional array. If we pass np.array() a list of lists, it will create a 2-dimensional array."
      ]
    },
    {
      "cell_type": "code",
      "metadata": {
        "colab": {
          "base_uri": "https://localhost:8080/"
        },
        "id": "obvIZrK-O58j",
        "outputId": "6c1e13db-aac9-477f-ebf5-bd154adab1ae"
      },
      "source": [
        "axes = np.array([[1,4],[3,7]])  #creates 2-dimensional matrix\n",
        "print(axes)   #prints values of the axes of a function"
      ],
      "execution_count": null,
      "outputs": [
        {
          "output_type": "stream",
          "name": "stdout",
          "text": [
            "[[1 4]\n",
            " [3 7]]\n"
          ]
        }
      ]
    },
    {
      "cell_type": "markdown",
      "metadata": {
        "id": "uDdfLD9HfHkl"
      },
      "source": [
        "We get the dimensions of an ndarray using the .shape attribute:"
      ]
    },
    {
      "cell_type": "code",
      "metadata": {
        "colab": {
          "base_uri": "https://localhost:8080/"
        },
        "id": "G2txdn73O58j",
        "outputId": "ce2fb469-8156-4a75-b032-ff008f05f10f"
      },
      "source": [
        "print(axes.shape)  #prints matrix dimensions"
      ],
      "execution_count": null,
      "outputs": [
        {
          "output_type": "stream",
          "name": "stdout",
          "text": [
            "(2, 2)\n"
          ]
        }
      ]
    },
    {
      "cell_type": "markdown",
      "metadata": {
        "id": "87W5ueORfPEy"
      },
      "source": [
        "If we create an 2-dimensional array (i.e. matrix), each row can be accessed by index:"
      ]
    },
    {
      "cell_type": "code",
      "metadata": {
        "colab": {
          "base_uri": "https://localhost:8080/"
        },
        "id": "x_QV9aPbO58j",
        "outputId": "b75c0c82-ab10-428c-9c17-0fe15908bf35"
      },
      "source": [
        "print(\"(x,y) = \"+str(axes[0]))\n",
        "print(\"(x,y) = \"+str(axes[1]))"
      ],
      "execution_count": null,
      "outputs": [
        {
          "output_type": "stream",
          "name": "stdout",
          "text": [
            "(x,y) = [1 4]\n",
            "(x,y) = [3 7]\n"
          ]
        }
      ]
    },
    {
      "cell_type": "markdown",
      "metadata": {
        "id": "5Hke7Vt-fSGB"
      },
      "source": [
        "If we want to access the matrix by column instead:"
      ]
    },
    {
      "cell_type": "code",
      "metadata": {
        "colab": {
          "base_uri": "https://localhost:8080/"
        },
        "id": "gHVwbPfOO58j",
        "outputId": "76ac296f-bb09-4215-bead-6b4724f30290"
      },
      "source": [
        "print('x-values: ', axes[:,0])\n",
        "print('y-values: ', axes[:,1])"
      ],
      "execution_count": null,
      "outputs": [
        {
          "output_type": "stream",
          "name": "stdout",
          "text": [
            "x-values:  [1 3]\n",
            "y-calues:  [4 7]\n"
          ]
        }
      ]
    },
    {
      "cell_type": "markdown",
      "metadata": {
        "id": "T61cD0HMfStB"
      },
      "source": [
        "## Array Functions\n",
        "Some functions built in NumPy that allow us to perform calculations on arrays. For example, we can apply the natural logarithm to each element of an array:"
      ]
    },
    {
      "cell_type": "code",
      "metadata": {
        "colab": {
          "base_uri": "https://localhost:8080/"
        },
        "id": "PKhwtJ7XO58k",
        "outputId": "09fb5de8-2761-4e2c-8630-ca1a06b6abc7"
      },
      "source": [
        "print(np.log(price_array))  #prints array  applying natural logarithm in price_array"
      ],
      "execution_count": null,
      "outputs": [
        {
          "output_type": "stream",
          "name": "stdout",
          "text": [
            "[3.09104245 3.77276094 3.46729718]\n"
          ]
        }
      ]
    },
    {
      "cell_type": "markdown",
      "metadata": {
        "id": "uzjBRFBLfZ-D"
      },
      "source": [
        "Other functions return a single value:"
      ]
    },
    {
      "cell_type": "code",
      "metadata": {
        "colab": {
          "base_uri": "https://localhost:8080/"
        },
        "id": "nQuABZqUO58k",
        "outputId": "e913b978-b85d-4780-83bc-b50ad8b6d8d1"
      },
      "source": [
        "print(np.mean(price_array))\n",
        "print(np.std(price_array))\n",
        "print(np.sum(price_array))\n",
        "print(np.max(price_array))"
      ],
      "execution_count": null,
      "outputs": [
        {
          "output_type": "stream",
          "name": "stdout",
          "text": [
            "32.516666666666666\n",
            "8.78353889702525\n",
            "97.55\n",
            "43.5\n"
          ]
        }
      ]
    },
    {
      "cell_type": "markdown",
      "metadata": {
        "id": "IRW95BsifgDB"
      },
      "source": [
        "The functions above return the mean, standard deviation, total and maximum value of an array.\n",
        "\n",
        "# Pandas\n",
        "Pandas is one of the most powerful tools for dealing with financial data. \n",
        "\n",
        "First we need to import Pandas:"
      ]
    },
    {
      "cell_type": "code",
      "metadata": {
        "id": "xIYH4oUfO58k"
      },
      "source": [
        "import pandas as pd"
      ],
      "execution_count": null,
      "outputs": []
    },
    {
      "cell_type": "markdown",
      "metadata": {
        "id": "zOig5gORfnJU"
      },
      "source": [
        "## Series\n",
        "Series is a one-dimensional labeled array capable of holding any data type (integers, strings, float, Python object, etc.)\n",
        "\n",
        "We create a Series by calling pd.Series(data), where data can be a dictionary, an array or just a scalar value."
      ]
    },
    {
      "cell_type": "code",
      "metadata": {
        "colab": {
          "base_uri": "https://localhost:8080/"
        },
        "id": "JmzoNzrPO58k",
        "outputId": "eb98c9b5-da3d-4bf6-ca7a-f3de0d6eb44f"
      },
      "source": [
        "users_list = ['loyalzs32', \"phans\", \"juan02\", \"freedom08\",\"jalvaradoc\"]\n",
        "users = pd.Series(users_list)  #creates users serie\n",
        "users"
      ],
      "execution_count": null,
      "outputs": [
        {
          "output_type": "execute_result",
          "data": {
            "text/plain": [
              "0     loyalzs32\n",
              "1         phans\n",
              "2        juan02\n",
              "3     freedom08\n",
              "4    jalvaradoc\n",
              "dtype: object"
            ]
          },
          "metadata": {},
          "execution_count": 40
        }
      ]
    },
    {
      "cell_type": "markdown",
      "metadata": {
        "id": "tP5iDnunfq46"
      },
      "source": [
        "We can customize the indices of a new Series:"
      ]
    },
    {
      "cell_type": "code",
      "metadata": {
        "colab": {
          "base_uri": "https://localhost:8080/"
        },
        "id": "eswQC3ZPO58l",
        "outputId": "f9718519-8d6e-43b6-bbac-39f8e9a9dcee"
      },
      "source": [
        "users = pd.Series(users_list,index = [10.1,10.2,10.3,10.4,10.5,])  #changes serie indices\n",
        "users"
      ],
      "execution_count": null,
      "outputs": [
        {
          "output_type": "execute_result",
          "data": {
            "text/plain": [
              "10.1     loyalzs32\n",
              "10.2         phans\n",
              "10.3        juan02\n",
              "10.4     freedom08\n",
              "10.5    jalvaradoc\n",
              "dtype: object"
            ]
          },
          "metadata": {},
          "execution_count": 42
        }
      ]
    },
    {
      "cell_type": "markdown",
      "metadata": {
        "id": "wdZrb8pEfuua"
      },
      "source": [
        "Or we can change the indices of an existing Series:"
      ]
    },
    {
      "cell_type": "code",
      "metadata": {
        "colab": {
          "base_uri": "https://localhost:8080/"
        },
        "id": "MwlRnPF6O58l",
        "outputId": "5b1cb283-0ad6-47c0-b4f5-cf47a3be8850"
      },
      "source": [
        "users.index = [0,1,2,3,4]\n",
        "users"
      ],
      "execution_count": null,
      "outputs": [
        {
          "output_type": "execute_result",
          "data": {
            "text/plain": [
              "0     loyalzs32\n",
              "1         phans\n",
              "2        juan02\n",
              "3     freedom08\n",
              "4    jalvaradoc\n",
              "dtype: object"
            ]
          },
          "metadata": {},
          "execution_count": 48
        }
      ]
    },
    {
      "cell_type": "markdown",
      "metadata": {
        "id": "6cGNQZwLfxIz"
      },
      "source": [
        "Series is like a list since it can be sliced by index:"
      ]
    },
    {
      "cell_type": "code",
      "metadata": {
        "colab": {
          "base_uri": "https://localhost:8080/"
        },
        "id": "N9bBSg6cO58l",
        "outputId": "6d881540-c211-4774-9e65-4cd55e8f7355"
      },
      "source": [
        "print(users[::2])   #prints even indices\n",
        "print()\n",
        "print(users[1::2])  #prints odd indices"
      ],
      "execution_count": null,
      "outputs": [
        {
          "output_type": "stream",
          "name": "stdout",
          "text": [
            "0     loyalzs32\n",
            "2        juan02\n",
            "4    jalvaradoc\n",
            "dtype: object\n",
            "\n",
            "1        phans\n",
            "3    freedom08\n",
            "dtype: object\n"
          ]
        }
      ]
    },
    {
      "cell_type": "markdown",
      "metadata": {
        "id": "5V25nViZfz3Z"
      },
      "source": [
        "Series is also like a dictionary whose values can be set or fetched by index label:"
      ]
    },
    {
      "cell_type": "code",
      "metadata": {
        "colab": {
          "base_uri": "https://localhost:8080/"
        },
        "id": "b3Y0kKGYO58l",
        "outputId": "1503656e-87df-4816-8ffd-e3dda0eebc5f"
      },
      "source": [
        "print(users[0])   # prints first element\n",
        "users[0] = \"JC\"   # changes first element \n",
        "print(users)"
      ],
      "execution_count": null,
      "outputs": [
        {
          "output_type": "stream",
          "name": "stdout",
          "text": [
            "loyalzs32\n",
            "0            JC\n",
            "1         phans\n",
            "2        juan02\n",
            "3     freedom08\n",
            "4    jalvaradoc\n",
            "dtype: object\n"
          ]
        }
      ]
    },
    {
      "cell_type": "markdown",
      "metadata": {
        "id": "RQ1P7Gkyf060"
      },
      "source": [
        "Series can also have a name attribute, which will be used when we make up a Pandas DataFrame using several series."
      ]
    },
    {
      "cell_type": "code",
      "metadata": {
        "colab": {
          "base_uri": "https://localhost:8080/"
        },
        "id": "ZeD4-p7KO58m",
        "outputId": "677a9191-8aa0-434a-9574-7689d08fcbab"
      },
      "source": [
        "users = pd.Series(users_list, name = 'usernames')\n",
        "print(users)\n",
        "print(users.name)   #prints series name"
      ],
      "execution_count": null,
      "outputs": [
        {
          "output_type": "stream",
          "name": "stdout",
          "text": [
            "0     loyalzs32\n",
            "1         phans\n",
            "2        juan02\n",
            "3     freedom08\n",
            "4    jalvaradoc\n",
            "Name: usernames, dtype: object\n",
            "usernames\n"
          ]
        }
      ]
    },
    {
      "cell_type": "markdown",
      "metadata": {
        "id": "geJb1pGHf5Et"
      },
      "source": [
        "We can get the statistical summaries of a Series:"
      ]
    },
    {
      "cell_type": "code",
      "metadata": {
        "colab": {
          "base_uri": "https://localhost:8080/"
        },
        "id": "mGPtFcjegm4i",
        "outputId": "cde52718-6164-47d3-8cd3-1a4e2813f554"
      },
      "source": [
        "bike_price = [100000, 2310000, 200000, 14400, 1420000]\n",
        "prices = pd.Series(bike_price)\n",
        "print(prices.describe())"
      ],
      "execution_count": null,
      "outputs": [
        {
          "output_type": "stream",
          "name": "stdout",
          "text": [
            "count    5.000000e+00\n",
            "mean     8.088800e+05\n",
            "std      1.016277e+06\n",
            "min      1.440000e+04\n",
            "25%      1.000000e+05\n",
            "50%      2.000000e+05\n",
            "75%      1.420000e+06\n",
            "max      2.310000e+06\n",
            "dtype: float64\n"
          ]
        }
      ]
    },
    {
      "cell_type": "markdown",
      "metadata": {
        "id": "LkdZu-CDgvlR"
      },
      "source": [
        "## Time Index\n",
        "Pandas has a built-in function specifically for creating date indices: pd.date_range(). We use it to create a new index for our Series:"
      ]
    },
    {
      "cell_type": "code",
      "metadata": {
        "colab": {
          "base_uri": "https://localhost:8080/"
        },
        "id": "HJe5hU4zO58m",
        "outputId": "1849b0d2-5db6-4f52-b6d6-7722b22fe142"
      },
      "source": [
        "time_index = pd.date_range('2021-01-01',periods = len(prices),freq = 'D')\n",
        "prices.index = time_index   #changes series indices\n",
        "print(prices)"
      ],
      "execution_count": null,
      "outputs": [
        {
          "output_type": "stream",
          "name": "stdout",
          "text": [
            "2021-01-01     100000\n",
            "2021-01-02    2310000\n",
            "2021-01-03     200000\n",
            "2021-01-04      14400\n",
            "2021-01-05    1420000\n",
            "Freq: D, dtype: int64\n"
          ]
        }
      ]
    },
    {
      "cell_type": "markdown",
      "metadata": {
        "id": "7WedejFZg19J"
      },
      "source": [
        "Series are usually accessed using the iloc[] and loc[] methods. iloc[] is used to access elements by integer index, and loc[] is used to access the index of the series.\n",
        "\n",
        "iloc[] is necessary when the index of a series are integers, take our previous defined series as example:"
      ]
    },
    {
      "cell_type": "code",
      "metadata": {
        "colab": {
          "base_uri": "https://localhost:8080/"
        },
        "id": "KrVSOyMvO58m",
        "outputId": "31847655-ba53-4939-a2d6-ac6ab7cd83ee"
      },
      "source": [
        "prices.index = [1,2,3,4,5]\n",
        "print(prices)\n",
        "print(\"First element is: \"+str(prices[1]))   #prints  element  with index 1"
      ],
      "execution_count": null,
      "outputs": [
        {
          "output_type": "stream",
          "name": "stdout",
          "text": [
            "1     100000\n",
            "2    2310000\n",
            "3     200000\n",
            "4      14400\n",
            "5    1420000\n",
            "dtype: int64\n",
            "First element is: 100000\n"
          ]
        }
      ]
    },
    {
      "cell_type": "markdown",
      "metadata": {
        "id": "r30VKPtpg61p"
      },
      "source": [
        "If we intended to take the second element of the series, we would make a mistake here, because the index are integers. In order to access to the element we want, we use iloc[] here:"
      ]
    },
    {
      "cell_type": "code",
      "metadata": {
        "colab": {
          "base_uri": "https://localhost:8080/"
        },
        "id": "bHukfaAmO58m",
        "outputId": "e1a847b4-b836-430e-8d45-c5a8751ce5ce"
      },
      "source": [
        "print(prices.iloc[1])  #prints second element"
      ],
      "execution_count": null,
      "outputs": [
        {
          "output_type": "stream",
          "name": "stdout",
          "text": [
            "2310000\n"
          ]
        }
      ]
    },
    {
      "cell_type": "markdown",
      "metadata": {
        "id": "kHVBRL_Rg84j"
      },
      "source": [
        "While working with time series data, we often use time as the index. Pandas provides us with various methods to access the data by time index"
      ]
    },
    {
      "cell_type": "code",
      "metadata": {
        "colab": {
          "base_uri": "https://localhost:8080/"
        },
        "id": "FCf8Hg7jO58n",
        "outputId": "2e67cda8-5fc3-4346-f8fe-d0fe48034314"
      },
      "source": [
        "prices.index = time_index\n",
        "print(prices)\n",
        "print(prices['2021-01-02'])  ##prints  element  with index '2021-01-02'"
      ],
      "execution_count": null,
      "outputs": [
        {
          "output_type": "stream",
          "name": "stdout",
          "text": [
            "2021-01-01     100000\n",
            "2021-01-02    2310000\n",
            "2021-01-03     200000\n",
            "2021-01-04      14400\n",
            "2021-01-05    1420000\n",
            "Freq: D, dtype: int64\n",
            "2310000\n"
          ]
        }
      ]
    },
    {
      "cell_type": "markdown",
      "metadata": {
        "id": "XJXcrSFpg-To"
      },
      "source": [
        "We can even access to a range of dates:"
      ]
    },
    {
      "cell_type": "code",
      "metadata": {
        "colab": {
          "base_uri": "https://localhost:8080/"
        },
        "id": "NsE-Lr_9O58n",
        "outputId": "5c66d1a8-9cd6-4301-a2b6-e5f424bceb10"
      },
      "source": [
        "print(prices['2021-01-02':'2021-01-03'])"
      ],
      "execution_count": null,
      "outputs": [
        {
          "output_type": "stream",
          "name": "stdout",
          "text": [
            "2021-01-02    2310000\n",
            "2021-01-03     200000\n",
            "Freq: D, dtype: int64\n"
          ]
        }
      ]
    },
    {
      "cell_type": "markdown",
      "metadata": {
        "id": "cWA3NCXEhCLB"
      },
      "source": [
        "Series[] provides us a very flexible way to index data. We can add any condition in the square brackets:"
      ]
    },
    {
      "cell_type": "code",
      "metadata": {
        "colab": {
          "base_uri": "https://localhost:8080/"
        },
        "id": "aawbrg2EO58n",
        "outputId": "a281e474-c79a-4fed-b74b-eaa4c383f89e"
      },
      "source": [
        "print(prices)\n",
        "mean = np.mean(prices)  #calculates mean of the values\n",
        "print(mean)  \n",
        "print(prices[prices < np.mean(prices)] )  #print values greater than mean"
      ],
      "execution_count": null,
      "outputs": [
        {
          "output_type": "stream",
          "name": "stdout",
          "text": [
            "2021-01-01     100000\n",
            "2021-01-02    2310000\n",
            "2021-01-03     200000\n",
            "2021-01-04      14400\n",
            "2021-01-05    1420000\n",
            "Freq: D, dtype: int64\n",
            "808880.0\n",
            "2021-01-01    100000\n",
            "2021-01-03    200000\n",
            "2021-01-04     14400\n",
            "dtype: int64\n"
          ]
        }
      ]
    },
    {
      "cell_type": "markdown",
      "metadata": {
        "id": "jAByChIwhEuI"
      },
      "source": [
        "As demonstrated, we can use logical operators like & (and), | (or) and ~ (not) to group multiple conditions.\n",
        "\n",
        "# Summary\n",
        "Here we have introduced NumPy and Pandas for scientific computing in Python. In the next chapter, we will dive into Pandas to learn resampling and manipulating Pandas DataFrame, which are commonly used in financial data analysis."
      ]
    },
    {
      "cell_type": "markdown",
      "metadata": {
        "id": "OtjOpw6oJp6z"
      },
      "source": [
        "<div align=\"center\">\n",
        "<img style=\"display: block; margin: auto;\" alt=\"photo\" src=\"https://cdn.quantconnect.com/web/i/icon.png\"> <img style=\"display: block; margin: auto;\" alt=\"photo\" src=\"https://www.marketing-branding.com/wp-content/uploads/2020/07/google-colaboratory-colab-guia-completa.jpg \" width=\"50\" height=\"50\">\n",
        "<img style=\"display: block; margin: auto;\" alt=\"photo\" src=\"https://upload.wikimedia.org/wikipedia/commons/d/da/Yahoo_Finance_Logo_2019.svg\" width=\"50\" height=\"50\">  \n",
        "\n",
        "Quantconnect -> Google Colab with Yahoo Finance data\n",
        "\n",
        "Introduction to Financial Python\n",
        "</div>\n",
        "\n",
        "# 05 Pandas-Resampling and DataFrame\n",
        "\n",
        "# Introduction\n",
        "In the last chapter we had a glimpse of Pandas. In this chapter we will learn about resampling methods and the DataFrame object, which is a powerful tool for financial data analysis.\n",
        "\n",
        "# Fetching Data\n",
        "Here we use the Yahoo Finance to retrieve data.\n"
      ]
    },
    {
      "cell_type": "code",
      "metadata": {
        "colab": {
          "base_uri": "https://localhost:8080/"
        },
        "id": "luU8mZTsHW9x",
        "outputId": "32e26c34-d6bc-41d9-bdb7-5471cd3b336f"
      },
      "source": [
        "!pip install yfinance"
      ],
      "execution_count": null,
      "outputs": [
        {
          "output_type": "stream",
          "name": "stdout",
          "text": [
            "Collecting yfinance\n",
            "  Downloading yfinance-0.1.70-py2.py3-none-any.whl (26 kB)\n",
            "Collecting lxml>=4.5.1\n",
            "  Downloading lxml-4.8.0-cp37-cp37m-manylinux_2_17_x86_64.manylinux2014_x86_64.manylinux_2_24_x86_64.whl (6.4 MB)\n",
            "\u001b[K     |████████████████████████████████| 6.4 MB 4.9 MB/s \n",
            "\u001b[?25hRequirement already satisfied: pandas>=0.24.0 in /usr/local/lib/python3.7/dist-packages (from yfinance) (1.3.5)\n",
            "Collecting requests>=2.26\n",
            "  Downloading requests-2.27.1-py2.py3-none-any.whl (63 kB)\n",
            "\u001b[K     |████████████████████████████████| 63 kB 926 kB/s \n",
            "\u001b[?25hRequirement already satisfied: multitasking>=0.0.7 in /usr/local/lib/python3.7/dist-packages (from yfinance) (0.0.10)\n",
            "Requirement already satisfied: numpy>=1.15 in /usr/local/lib/python3.7/dist-packages (from yfinance) (1.21.5)\n",
            "Requirement already satisfied: python-dateutil>=2.7.3 in /usr/local/lib/python3.7/dist-packages (from pandas>=0.24.0->yfinance) (2.8.2)\n",
            "Requirement already satisfied: pytz>=2017.3 in /usr/local/lib/python3.7/dist-packages (from pandas>=0.24.0->yfinance) (2018.9)\n",
            "Requirement already satisfied: six>=1.5 in /usr/local/lib/python3.7/dist-packages (from python-dateutil>=2.7.3->pandas>=0.24.0->yfinance) (1.15.0)\n",
            "Requirement already satisfied: idna<4,>=2.5 in /usr/local/lib/python3.7/dist-packages (from requests>=2.26->yfinance) (2.10)\n",
            "Requirement already satisfied: charset-normalizer~=2.0.0 in /usr/local/lib/python3.7/dist-packages (from requests>=2.26->yfinance) (2.0.12)\n",
            "Requirement already satisfied: certifi>=2017.4.17 in /usr/local/lib/python3.7/dist-packages (from requests>=2.26->yfinance) (2021.10.8)\n",
            "Requirement already satisfied: urllib3<1.27,>=1.21.1 in /usr/local/lib/python3.7/dist-packages (from requests>=2.26->yfinance) (1.24.3)\n",
            "Installing collected packages: requests, lxml, yfinance\n",
            "  Attempting uninstall: requests\n",
            "    Found existing installation: requests 2.23.0\n",
            "    Uninstalling requests-2.23.0:\n",
            "      Successfully uninstalled requests-2.23.0\n",
            "  Attempting uninstall: lxml\n",
            "    Found existing installation: lxml 4.2.6\n",
            "    Uninstalling lxml-4.2.6:\n",
            "      Successfully uninstalled lxml-4.2.6\n",
            "\u001b[31mERROR: pip's dependency resolver does not currently take into account all the packages that are installed. This behaviour is the source of the following dependency conflicts.\n",
            "google-colab 1.0.0 requires requests~=2.23.0, but you have requests 2.27.1 which is incompatible.\n",
            "datascience 0.10.6 requires folium==0.2.1, but you have folium 0.8.3 which is incompatible.\u001b[0m\n",
            "Successfully installed lxml-4.8.0 requests-2.27.1 yfinance-0.1.70\n"
          ]
        }
      ]
    },
    {
      "cell_type": "code",
      "metadata": {
        "colab": {
          "base_uri": "https://localhost:8080/",
          "height": 492
        },
        "id": "mWZ-nirTZHrE",
        "outputId": "5db3b621-b71a-4319-cdfe-c72b99af445b"
      },
      "source": [
        "import yfinance as yf\n",
        "\n",
        "aapl = yf.Ticker(\"AAPL\")\n",
        "\n",
        "# get stock info\n",
        "print(aapl.info)\n",
        "\n",
        "# get historical market data\n",
        "aapl_table = aapl.history(start=\"2016-01-01\",  end=\"2017-12-31\")\n",
        "aapl_table"
      ],
      "execution_count": null,
      "outputs": [
        {
          "output_type": "stream",
          "name": "stdout",
          "text": [
            "{'zip': '95014', 'sector': 'Technology', 'fullTimeEmployees': 100000, 'longBusinessSummary': 'Apple Inc. designs, manufactures, and markets smartphones, personal computers, tablets, wearables, and accessories worldwide. It also sells various related services. In addition, the company offers iPhone, a line of smartphones; Mac, a line of personal computers; iPad, a line of multi-purpose tablets; AirPods Max, an over-ear wireless headphone; and wearables, home, and accessories comprising AirPods, Apple TV, Apple Watch, Beats products, HomePod, and iPod touch. Further, it provides AppleCare support services; cloud services store services; and operates various platforms, including the App Store that allow customers to discover and download applications and digital content, such as books, music, video, games, and podcasts. Additionally, the company offers various services, such as Apple Arcade, a game subscription service; Apple Music, which offers users a curated listening experience with on-demand radio stations; Apple News+, a subscription news and magazine service; Apple TV+, which offers exclusive original content; Apple Card, a co-branded credit card; and Apple Pay, a cashless payment service, as well as licenses its intellectual property. The company serves consumers, and small and mid-sized businesses; and the education, enterprise, and government markets. It distributes third-party applications for its products through the App Store. The company also sells its products through its retail and online stores, and direct sales force; and third-party cellular network carriers, wholesalers, retailers, and resellers. Apple Inc. was incorporated in 1977 and is headquartered in Cupertino, California.', 'city': 'Cupertino', 'phone': '408 996 1010', 'state': 'CA', 'country': 'United States', 'companyOfficers': [], 'website': 'https://www.apple.com', 'maxAge': 1, 'address1': 'One Apple Park Way', 'industry': 'Consumer Electronics', 'ebitdaMargins': 0.33890998, 'profitMargins': 0.26579002, 'grossMargins': 0.43019, 'operatingCashflow': 112241000448, 'revenueGrowth': 0.112, 'operatingMargins': 0.309, 'ebitda': 128217997312, 'targetLowPrice': 160, 'recommendationKey': 'buy', 'grossProfits': 152836000000, 'freeCashflow': 80153247744, 'targetMedianPrice': 199.5, 'currentPrice': 150.62, 'earningsGrowth': 0.25, 'currentRatio': 1.038, 'returnOnAssets': 0.19875, 'numberOfAnalystOpinions': 44, 'targetMeanPrice': 193.53, 'debtToEquity': 170.714, 'returnOnEquity': 1.45567, 'targetHighPrice': 215, 'totalCash': 63913000960, 'totalDebt': 122797998080, 'totalRevenue': 378323009536, 'totalCashPerShare': 3.916, 'financialCurrency': 'USD', 'revenuePerShare': 22.838, 'quickRatio': 0.875, 'recommendationMean': 1.8, 'exchange': 'NMS', 'shortName': 'Apple Inc.', 'longName': 'Apple Inc.', 'exchangeTimezoneName': 'America/New_York', 'exchangeTimezoneShortName': 'EDT', 'isEsgPopulated': False, 'gmtOffSetMilliseconds': '-14400000', 'quoteType': 'EQUITY', 'symbol': 'AAPL', 'messageBoardId': 'finmb_24937', 'market': 'us_market', 'annualHoldingsTurnover': None, 'enterpriseToRevenue': 6.653, 'beta3Year': None, 'enterpriseToEbitda': 19.63, '52WeekChange': 0.24792325, 'morningStarRiskRating': None, 'forwardEps': 6.56, 'revenueQuarterlyGrowth': None, 'sharesOutstanding': 16319399936, 'fundInceptionDate': None, 'annualReportExpenseRatio': None, 'totalAssets': None, 'bookValue': 4.402, 'sharesShort': 110322490, 'sharesPercentSharesOut': 0.0068, 'fundFamily': None, 'lastFiscalYearEnd': 1632528000, 'heldPercentInstitutions': 0.59426, 'netIncomeToCommon': 100554997760, 'trailingEps': 6.015, 'lastDividendValue': 0.22, 'SandP52WeekChange': 0.059303045, 'priceToBook': 34.216263, 'heldPercentInsiders': 0.0007, 'nextFiscalYearEnd': 1695600000, 'yield': None, 'mostRecentQuarter': 1640390400, 'shortRatio': 1.2, 'sharesShortPreviousMonthDate': 1643587200, 'floatShares': 16302795170, 'beta': 1.185531, 'enterpriseValue': 2516919255040, 'priceHint': 2, 'threeYearAverageReturn': None, 'lastSplitDate': 1598832000, 'lastSplitFactor': '4:1', 'legalType': None, 'lastDividendDate': 1643932800, 'morningStarOverallRating': None, 'earningsQuarterlyGrowth': 0.204, 'priceToSalesTrailing12Months': 6.497167, 'dateShortInterest': 1646006400, 'pegRatio': 1.69, 'ytdReturn': None, 'forwardPE': 22.960365, 'lastCapGain': None, 'shortPercentOfFloat': 0.0068, 'sharesShortPriorMonth': 91388112, 'impliedSharesOutstanding': 0, 'category': None, 'fiveYearAverageReturn': None, 'previousClose': 154.73, 'regularMarketOpen': 151.45, 'twoHundredDayAverage': 153.6086, 'trailingAnnualDividendYield': 0.0055903834, 'payoutRatio': 0.1434, 'volume24Hr': None, 'regularMarketDayHigh': 154.12, 'navPrice': None, 'averageDailyVolume10Day': 93968420, 'regularMarketPreviousClose': 154.73, 'fiftyDayAverage': 168.6374, 'trailingAnnualDividendRate': 0.865, 'open': 151.45, 'toCurrency': None, 'averageVolume10days': 93968420, 'expireDate': None, 'algorithm': None, 'dividendRate': 0.88, 'exDividendDate': 1643932800, 'circulatingSupply': None, 'startDate': None, 'regularMarketDayLow': 150.1, 'currency': 'USD', 'trailingPE': 25.040731, 'regularMarketVolume': 108732111, 'lastMarket': None, 'maxSupply': None, 'openInterest': None, 'marketCap': 2458027819008, 'volumeAllCurrencies': None, 'strikePrice': None, 'averageVolume': 95938386, 'dayLow': 150.1, 'ask': 150.93, 'askSize': 800, 'volume': 108732111, 'fiftyTwoWeekHigh': 182.94, 'fromCurrency': None, 'fiveYearAvgDividendYield': 1.13, 'fiftyTwoWeekLow': 118.86, 'bid': 150.9, 'tradeable': False, 'dividendYield': 0.0057, 'bidSize': 1200, 'dayHigh': 154.12, 'regularMarketPrice': 150.62, 'preMarketPrice': 151.52, 'logo_url': 'https://logo.clearbit.com/apple.com', 'trailingPegRatio': 3.2017}\n"
          ]
        },
        {
          "output_type": "execute_result",
          "data": {
            "text/plain": [
              "                 Open       High        Low      Close     Volume  Dividends  \\\n",
              "Date                                                                           \n",
              "2016-01-04  23.590636  24.225176  23.450393  24.220577  270597600        0.0   \n",
              "2016-01-05  24.312538  24.335529  23.544654  23.613625  223164000        0.0   \n",
              "2016-01-06  23.119331  23.535462  22.960697  23.151518  273829600        0.0   \n",
              "2016-01-07  22.687108  23.020471  22.169820  22.174417  324377600        0.0   \n",
              "2016-01-08  22.657219  22.785966  22.245687  22.291668  283192000        0.0   \n",
              "...               ...        ...        ...        ...        ...        ...   \n",
              "2017-12-22  41.713649  41.890363  41.670667  41.792454   65397600        0.0   \n",
              "2017-12-26  40.787101  40.947097  40.519642  40.732178  132742000        0.0   \n",
              "2017-12-27  40.619957  40.782339  40.526825  40.739357   85992800        0.0   \n",
              "2017-12-28  40.834869  41.037851  40.710692  40.853973   65920800        0.0   \n",
              "2017-12-29  40.720244  40.736958  40.409803  40.412189  103999600        0.0   \n",
              "\n",
              "            Stock Splits  \n",
              "Date                      \n",
              "2016-01-04             0  \n",
              "2016-01-05             0  \n",
              "2016-01-06             0  \n",
              "2016-01-07             0  \n",
              "2016-01-08             0  \n",
              "...                  ...  \n",
              "2017-12-22             0  \n",
              "2017-12-26             0  \n",
              "2017-12-27             0  \n",
              "2017-12-28             0  \n",
              "2017-12-29             0  \n",
              "\n",
              "[503 rows x 7 columns]"
            ],
            "text/html": [
              "\n",
              "  <div id=\"df-d61194b2-3300-42f4-9ad3-21e8fff81e06\">\n",
              "    <div class=\"colab-df-container\">\n",
              "      <div>\n",
              "<style scoped>\n",
              "    .dataframe tbody tr th:only-of-type {\n",
              "        vertical-align: middle;\n",
              "    }\n",
              "\n",
              "    .dataframe tbody tr th {\n",
              "        vertical-align: top;\n",
              "    }\n",
              "\n",
              "    .dataframe thead th {\n",
              "        text-align: right;\n",
              "    }\n",
              "</style>\n",
              "<table border=\"1\" class=\"dataframe\">\n",
              "  <thead>\n",
              "    <tr style=\"text-align: right;\">\n",
              "      <th></th>\n",
              "      <th>Open</th>\n",
              "      <th>High</th>\n",
              "      <th>Low</th>\n",
              "      <th>Close</th>\n",
              "      <th>Volume</th>\n",
              "      <th>Dividends</th>\n",
              "      <th>Stock Splits</th>\n",
              "    </tr>\n",
              "    <tr>\n",
              "      <th>Date</th>\n",
              "      <th></th>\n",
              "      <th></th>\n",
              "      <th></th>\n",
              "      <th></th>\n",
              "      <th></th>\n",
              "      <th></th>\n",
              "      <th></th>\n",
              "    </tr>\n",
              "  </thead>\n",
              "  <tbody>\n",
              "    <tr>\n",
              "      <th>2016-01-04</th>\n",
              "      <td>23.590636</td>\n",
              "      <td>24.225176</td>\n",
              "      <td>23.450393</td>\n",
              "      <td>24.220577</td>\n",
              "      <td>270597600</td>\n",
              "      <td>0.0</td>\n",
              "      <td>0</td>\n",
              "    </tr>\n",
              "    <tr>\n",
              "      <th>2016-01-05</th>\n",
              "      <td>24.312538</td>\n",
              "      <td>24.335529</td>\n",
              "      <td>23.544654</td>\n",
              "      <td>23.613625</td>\n",
              "      <td>223164000</td>\n",
              "      <td>0.0</td>\n",
              "      <td>0</td>\n",
              "    </tr>\n",
              "    <tr>\n",
              "      <th>2016-01-06</th>\n",
              "      <td>23.119331</td>\n",
              "      <td>23.535462</td>\n",
              "      <td>22.960697</td>\n",
              "      <td>23.151518</td>\n",
              "      <td>273829600</td>\n",
              "      <td>0.0</td>\n",
              "      <td>0</td>\n",
              "    </tr>\n",
              "    <tr>\n",
              "      <th>2016-01-07</th>\n",
              "      <td>22.687108</td>\n",
              "      <td>23.020471</td>\n",
              "      <td>22.169820</td>\n",
              "      <td>22.174417</td>\n",
              "      <td>324377600</td>\n",
              "      <td>0.0</td>\n",
              "      <td>0</td>\n",
              "    </tr>\n",
              "    <tr>\n",
              "      <th>2016-01-08</th>\n",
              "      <td>22.657219</td>\n",
              "      <td>22.785966</td>\n",
              "      <td>22.245687</td>\n",
              "      <td>22.291668</td>\n",
              "      <td>283192000</td>\n",
              "      <td>0.0</td>\n",
              "      <td>0</td>\n",
              "    </tr>\n",
              "    <tr>\n",
              "      <th>...</th>\n",
              "      <td>...</td>\n",
              "      <td>...</td>\n",
              "      <td>...</td>\n",
              "      <td>...</td>\n",
              "      <td>...</td>\n",
              "      <td>...</td>\n",
              "      <td>...</td>\n",
              "    </tr>\n",
              "    <tr>\n",
              "      <th>2017-12-22</th>\n",
              "      <td>41.713649</td>\n",
              "      <td>41.890363</td>\n",
              "      <td>41.670667</td>\n",
              "      <td>41.792454</td>\n",
              "      <td>65397600</td>\n",
              "      <td>0.0</td>\n",
              "      <td>0</td>\n",
              "    </tr>\n",
              "    <tr>\n",
              "      <th>2017-12-26</th>\n",
              "      <td>40.787101</td>\n",
              "      <td>40.947097</td>\n",
              "      <td>40.519642</td>\n",
              "      <td>40.732178</td>\n",
              "      <td>132742000</td>\n",
              "      <td>0.0</td>\n",
              "      <td>0</td>\n",
              "    </tr>\n",
              "    <tr>\n",
              "      <th>2017-12-27</th>\n",
              "      <td>40.619957</td>\n",
              "      <td>40.782339</td>\n",
              "      <td>40.526825</td>\n",
              "      <td>40.739357</td>\n",
              "      <td>85992800</td>\n",
              "      <td>0.0</td>\n",
              "      <td>0</td>\n",
              "    </tr>\n",
              "    <tr>\n",
              "      <th>2017-12-28</th>\n",
              "      <td>40.834869</td>\n",
              "      <td>41.037851</td>\n",
              "      <td>40.710692</td>\n",
              "      <td>40.853973</td>\n",
              "      <td>65920800</td>\n",
              "      <td>0.0</td>\n",
              "      <td>0</td>\n",
              "    </tr>\n",
              "    <tr>\n",
              "      <th>2017-12-29</th>\n",
              "      <td>40.720244</td>\n",
              "      <td>40.736958</td>\n",
              "      <td>40.409803</td>\n",
              "      <td>40.412189</td>\n",
              "      <td>103999600</td>\n",
              "      <td>0.0</td>\n",
              "      <td>0</td>\n",
              "    </tr>\n",
              "  </tbody>\n",
              "</table>\n",
              "<p>503 rows × 7 columns</p>\n",
              "</div>\n",
              "      <button class=\"colab-df-convert\" onclick=\"convertToInteractive('df-d61194b2-3300-42f4-9ad3-21e8fff81e06')\"\n",
              "              title=\"Convert this dataframe to an interactive table.\"\n",
              "              style=\"display:none;\">\n",
              "        \n",
              "  <svg xmlns=\"http://www.w3.org/2000/svg\" height=\"24px\"viewBox=\"0 0 24 24\"\n",
              "       width=\"24px\">\n",
              "    <path d=\"M0 0h24v24H0V0z\" fill=\"none\"/>\n",
              "    <path d=\"M18.56 5.44l.94 2.06.94-2.06 2.06-.94-2.06-.94-.94-2.06-.94 2.06-2.06.94zm-11 1L8.5 8.5l.94-2.06 2.06-.94-2.06-.94L8.5 2.5l-.94 2.06-2.06.94zm10 10l.94 2.06.94-2.06 2.06-.94-2.06-.94-.94-2.06-.94 2.06-2.06.94z\"/><path d=\"M17.41 7.96l-1.37-1.37c-.4-.4-.92-.59-1.43-.59-.52 0-1.04.2-1.43.59L10.3 9.45l-7.72 7.72c-.78.78-.78 2.05 0 2.83L4 21.41c.39.39.9.59 1.41.59.51 0 1.02-.2 1.41-.59l7.78-7.78 2.81-2.81c.8-.78.8-2.07 0-2.86zM5.41 20L4 18.59l7.72-7.72 1.47 1.35L5.41 20z\"/>\n",
              "  </svg>\n",
              "      </button>\n",
              "      \n",
              "  <style>\n",
              "    .colab-df-container {\n",
              "      display:flex;\n",
              "      flex-wrap:wrap;\n",
              "      gap: 12px;\n",
              "    }\n",
              "\n",
              "    .colab-df-convert {\n",
              "      background-color: #E8F0FE;\n",
              "      border: none;\n",
              "      border-radius: 50%;\n",
              "      cursor: pointer;\n",
              "      display: none;\n",
              "      fill: #1967D2;\n",
              "      height: 32px;\n",
              "      padding: 0 0 0 0;\n",
              "      width: 32px;\n",
              "    }\n",
              "\n",
              "    .colab-df-convert:hover {\n",
              "      background-color: #E2EBFA;\n",
              "      box-shadow: 0px 1px 2px rgba(60, 64, 67, 0.3), 0px 1px 3px 1px rgba(60, 64, 67, 0.15);\n",
              "      fill: #174EA6;\n",
              "    }\n",
              "\n",
              "    [theme=dark] .colab-df-convert {\n",
              "      background-color: #3B4455;\n",
              "      fill: #D2E3FC;\n",
              "    }\n",
              "\n",
              "    [theme=dark] .colab-df-convert:hover {\n",
              "      background-color: #434B5C;\n",
              "      box-shadow: 0px 1px 3px 1px rgba(0, 0, 0, 0.15);\n",
              "      filter: drop-shadow(0px 1px 2px rgba(0, 0, 0, 0.3));\n",
              "      fill: #FFFFFF;\n",
              "    }\n",
              "  </style>\n",
              "\n",
              "      <script>\n",
              "        const buttonEl =\n",
              "          document.querySelector('#df-d61194b2-3300-42f4-9ad3-21e8fff81e06 button.colab-df-convert');\n",
              "        buttonEl.style.display =\n",
              "          google.colab.kernel.accessAllowed ? 'block' : 'none';\n",
              "\n",
              "        async function convertToInteractive(key) {\n",
              "          const element = document.querySelector('#df-d61194b2-3300-42f4-9ad3-21e8fff81e06');\n",
              "          const dataTable =\n",
              "            await google.colab.kernel.invokeFunction('convertToInteractive',\n",
              "                                                     [key], {});\n",
              "          if (!dataTable) return;\n",
              "\n",
              "          const docLinkHtml = 'Like what you see? Visit the ' +\n",
              "            '<a target=\"_blank\" href=https://colab.research.google.com/notebooks/data_table.ipynb>data table notebook</a>'\n",
              "            + ' to learn more about interactive tables.';\n",
              "          element.innerHTML = '';\n",
              "          dataTable['output_type'] = 'display_data';\n",
              "          await google.colab.output.renderOutput(dataTable, element);\n",
              "          const docLink = document.createElement('div');\n",
              "          docLink.innerHTML = docLinkHtml;\n",
              "          element.appendChild(docLink);\n",
              "        }\n",
              "      </script>\n",
              "    </div>\n",
              "  </div>\n",
              "  "
            ]
          },
          "metadata": {},
          "execution_count": 82
        }
      ]
    },
    {
      "cell_type": "markdown",
      "metadata": {
        "id": "NkFztSYhJyVA"
      },
      "source": [
        "We will create a Series named \"aapl\" whose values are Apple's daily closing prices, which are of course indexed by dates:"
      ]
    },
    {
      "cell_type": "code",
      "metadata": {
        "id": "QDJbOpCeHW91"
      },
      "source": [
        "aapl = aapl_table['Close']['2016']  #creates series whose values are Apple's daily closing prices in 2016"
      ],
      "execution_count": null,
      "outputs": []
    },
    {
      "cell_type": "code",
      "metadata": {
        "colab": {
          "base_uri": "https://localhost:8080/"
        },
        "id": "SXfgCQJOHW91",
        "outputId": "54870ebb-4f1b-459e-854f-57d0364296bc"
      },
      "source": [
        "print(aapl)"
      ],
      "execution_count": null,
      "outputs": [
        {
          "output_type": "stream",
          "name": "stdout",
          "text": [
            "Date\n",
            "2016-01-04    24.220577\n",
            "2016-01-05    23.613625\n",
            "2016-01-06    23.151518\n",
            "2016-01-07    22.174417\n",
            "2016-01-08    22.291668\n",
            "                ...    \n",
            "2016-12-23    27.384649\n",
            "2016-12-27    27.558569\n",
            "2016-12-28    27.441055\n",
            "2016-12-29    27.434004\n",
            "2016-12-30    27.220135\n",
            "Name: Close, Length: 252, dtype: float64\n"
          ]
        }
      ]
    },
    {
      "cell_type": "markdown",
      "metadata": {
        "id": "waUEgBhzKEcA"
      },
      "source": [
        "Recall that we can fetch a specific data point using series['yyyy-mm-dd']. We can also fetch the data in a specific month using series['yyyy-mm']."
      ]
    },
    {
      "cell_type": "code",
      "metadata": {
        "colab": {
          "base_uri": "https://localhost:8080/"
        },
        "id": "2gS50G0zHW92",
        "outputId": "cceb1900-a330-487d-eb5f-984bd4454a87"
      },
      "source": [
        "print(aapl['2016-1-7'])   #prints value with '2016-1-7' index"
      ],
      "execution_count": null,
      "outputs": [
        {
          "output_type": "stream",
          "name": "stdout",
          "text": [
            "22.17441749572754\n"
          ]
        }
      ]
    },
    {
      "cell_type": "code",
      "metadata": {
        "colab": {
          "base_uri": "https://localhost:8080/"
        },
        "id": "vpvxGwXtHW92",
        "outputId": "61a54b85-248c-4c37-83f1-e34557c9bb33"
      },
      "source": [
        "aapl['2016-2':'2016-4']"
      ],
      "execution_count": null,
      "outputs": [
        {
          "output_type": "execute_result",
          "data": {
            "text/plain": [
              "Date\n",
              "2016-02-01    22.169817\n",
              "2016-02-02    21.721498\n",
              "2016-02-03    22.151423\n",
              "2016-02-04    22.329412\n",
              "2016-02-05    21.733038\n",
              "                ...    \n",
              "2016-04-25    24.289591\n",
              "2016-04-26    24.120853\n",
              "2016-04-27    22.611416\n",
              "2016-04-28    21.920271\n",
              "2016-04-29    21.668316\n",
              "Name: Close, Length: 63, dtype: float64"
            ]
          },
          "metadata": {},
          "execution_count": 93
        }
      ]
    },
    {
      "cell_type": "markdown",
      "metadata": {
        "id": "lWwoD39pKNKb"
      },
      "source": [
        ".head(N) and .tail(N) are methods for quickly accessing the first or last N elements."
      ]
    },
    {
      "cell_type": "code",
      "metadata": {
        "colab": {
          "base_uri": "https://localhost:8080/"
        },
        "id": "1eU218ALHW93",
        "outputId": "e32bb0fd-30e8-424f-be8c-17f731e909ae"
      },
      "source": [
        "print(aapl.head(3))     # prints first 3 elements\n",
        "print(aapl.tail(10))    # prints last 10 elements"
      ],
      "execution_count": null,
      "outputs": [
        {
          "output_type": "stream",
          "name": "stdout",
          "text": [
            "Date\n",
            "2016-01-04    24.220577\n",
            "2016-01-05    23.613625\n",
            "2016-01-06    23.151518\n",
            "Name: Close, dtype: float64\n",
            "Date\n",
            "2016-12-16    27.255390\n",
            "2016-12-19    27.412855\n",
            "2016-12-20    27.485708\n",
            "2016-12-21    27.511562\n",
            "2016-12-22    27.330595\n",
            "2016-12-23    27.384649\n",
            "2016-12-27    27.558569\n",
            "2016-12-28    27.441055\n",
            "2016-12-29    27.434004\n",
            "2016-12-30    27.220135\n",
            "Name: Close, dtype: float64\n"
          ]
        }
      ]
    },
    {
      "cell_type": "markdown",
      "metadata": {
        "id": "IxhKxtj-KQ66"
      },
      "source": [
        "# Resampling\n",
        "**_series.resample(freq)_** is a class called \"DatetimeIndexResampler\" which groups data in a Series object into regular time intervals. The argument \"freq\" determines the length of each interval.\n",
        "\n",
        "**_series.resample.mean()_** is a complete statement that groups data into intervals, and then compute the mean of each interval. For example, if we want to aggregate the daily data into monthly data by mean:"
      ]
    },
    {
      "cell_type": "code",
      "metadata": {
        "colab": {
          "base_uri": "https://localhost:8080/"
        },
        "id": "rAV8NkHkHW93",
        "outputId": "4887f949-a94c-486e-ac26-1f66c6b4f052"
      },
      "source": [
        "by_month = aapl.resample('M').mean()\n",
        "print(by_month)   # prints mean of the values in each month"
      ],
      "execution_count": null,
      "outputs": [
        {
          "output_type": "stream",
          "name": "stdout",
          "text": [
            "Date\n",
            "2016-01-31    22.629388\n",
            "2016-02-29    22.114204\n",
            "2016-03-31    24.101729\n",
            "2016-04-30    24.673088\n",
            "2016-05-31    22.068430\n",
            "2016-06-30    22.470544\n",
            "2016-07-31    22.920369\n",
            "2016-08-31    25.157012\n",
            "2016-09-30    25.920676\n",
            "2016-10-31    27.054706\n",
            "2016-11-30    25.875820\n",
            "2016-12-31    26.871297\n",
            "Freq: M, Name: Close, dtype: float64\n"
          ]
        }
      ]
    },
    {
      "cell_type": "markdown",
      "metadata": {
        "id": "QDPfVzBEKV6Q"
      },
      "source": [
        "We can also aggregate the data by week:"
      ]
    },
    {
      "cell_type": "code",
      "metadata": {
        "colab": {
          "base_uri": "https://localhost:8080/"
        },
        "id": "aAP3tKkBHW94",
        "outputId": "076a0b74-9fdb-461f-b943-cbb851a396f9"
      },
      "source": [
        "by_week = aapl.resample('W').mean()\n",
        "print(by_week.head())  # prints mean of the values in each weak"
      ],
      "execution_count": null,
      "outputs": [
        {
          "output_type": "stream",
          "name": "stdout",
          "text": [
            "Date\n",
            "2016-01-10    23.090361\n",
            "2016-01-17    22.647103\n",
            "2016-01-24    22.483065\n",
            "2016-01-31    22.267759\n",
            "2016-02-07    22.021038\n",
            "Freq: W-SUN, Name: Close, dtype: float64\n"
          ]
        }
      ]
    },
    {
      "cell_type": "markdown",
      "metadata": {
        "id": "o_MXSVsILoBS"
      },
      "source": [
        "We can also aggregate the data by month with max:"
      ]
    },
    {
      "cell_type": "code",
      "metadata": {
        "colab": {
          "base_uri": "https://localhost:8080/"
        },
        "id": "gn0wqXBTHW95",
        "outputId": "a6a11d01-dd35-4223-bc4a-a63c65b5c501"
      },
      "source": [
        "aapl.resample('M').max()  #prints ma value in each month"
      ],
      "execution_count": null,
      "outputs": [
        {
          "output_type": "execute_result",
          "data": {
            "text/plain": [
              "Date\n",
              "2016-01-31    24.220577\n",
              "2016-02-29    22.680771\n",
              "2016-03-31    25.325161\n",
              "2016-04-30    25.912289\n",
              "2016-05-31    23.351416\n",
              "2016-06-30    23.174675\n",
              "2016-07-31    24.265383\n",
              "2016-08-31    25.598669\n",
              "2016-09-30    27.022638\n",
              "2016-10-31    27.649279\n",
              "2016-11-30    26.275352\n",
              "2016-12-31    27.558569\n",
              "Freq: M, Name: Close, dtype: float64"
            ]
          },
          "metadata": {},
          "execution_count": 98
        }
      ]
    },
    {
      "cell_type": "markdown",
      "metadata": {
        "id": "Z8r46UFlLdAh"
      },
      "source": [
        "We can choose almost any frequency by using the format 'nf', where 'n' is an integer and 'f' is M for month, W for week and D for day."
      ]
    },
    {
      "cell_type": "code",
      "metadata": {
        "colab": {
          "base_uri": "https://localhost:8080/"
        },
        "id": "kdVB_-JFHW96",
        "outputId": "35bd68fe-3f7e-43fb-c5a6-559ba9d15dd4"
      },
      "source": [
        "three_day = aapl.resample('3D').min()\n",
        "two_week = aapl.resample('2W').max()\n",
        "half_yearly = aapl.resample('6M').mean()\n",
        "\n",
        "\n",
        "print(three_day)  #prints min value each three days\n",
        "print(two_week)   # prints max value each two week\n",
        "print(half_yearly )  #prints half yearly mean"
      ],
      "execution_count": null,
      "outputs": [
        {
          "output_type": "stream",
          "name": "stdout",
          "text": [
            "Date\n",
            "2016-01-04    23.151518\n",
            "2016-01-07    22.174417\n",
            "2016-01-10    22.652620\n",
            "2016-01-13    22.330755\n",
            "2016-01-16          NaN\n",
            "                ...    \n",
            "2016-12-17    27.412855\n",
            "2016-12-20    27.330595\n",
            "2016-12-23    27.384649\n",
            "2016-12-26    27.441055\n",
            "2016-12-29    27.220135\n",
            "Freq: 3D, Name: Close, Length: 121, dtype: float64\n",
            "Date\n",
            "2016-01-10    24.220577\n",
            "2016-01-24    23.317047\n",
            "2016-02-07    22.988289\n",
            "2016-02-21    22.680771\n",
            "2016-03-06    23.811110\n",
            "2016-03-20    24.495321\n",
            "2016-04-03    25.424561\n",
            "2016-04-17    25.912289\n",
            "2016-05-01    24.844360\n",
            "2016-05-15    22.001173\n",
            "2016-05-29    23.351416\n",
            "2016-06-12    23.223515\n",
            "2016-06-26    22.686298\n",
            "2016-07-10    22.483965\n",
            "2016-07-24    23.246769\n",
            "2016-08-07    25.131029\n",
            "2016-08-21    25.598669\n",
            "2016-09-04    25.451366\n",
            "2016-09-18    27.022638\n",
            "2016-10-02    26.800508\n",
            "2016-10-16    27.504307\n",
            "2016-10-30    27.649279\n",
            "2016-11-13    26.547987\n",
            "2016-11-27    26.275352\n",
            "2016-12-11    26.780642\n",
            "2016-12-25    27.511562\n",
            "2017-01-08    27.558569\n",
            "Freq: 2W-SUN, Name: Close, dtype: float64\n",
            "Date\n",
            "2016-01-31    22.629388\n",
            "2016-07-31    23.070265\n",
            "2017-01-31    26.156858\n",
            "Freq: 6M, Name: Close, dtype: float64\n"
          ]
        }
      ]
    },
    {
      "cell_type": "markdown",
      "metadata": {
        "id": "iy4RqsnwL-Bw"
      },
      "source": [
        "Besides the mean() method, other methods can also be used with the resampler:\n",
        "\n"
      ]
    },
    {
      "cell_type": "code",
      "metadata": {
        "colab": {
          "base_uri": "https://localhost:8080/"
        },
        "id": "DNT8Fx9dHW96",
        "outputId": "87208b3f-b112-4e81-9483-8925e1e45be4"
      },
      "source": [
        "std = aapl.resample('D').std()\n",
        "max_weekly = aapl.resample('W').max()\n",
        "min_montly = aapl.resample('M').min()\n",
        "\n",
        "\n",
        "print(std)\n",
        "print(max_weekly)\n",
        "print(min_montly)"
      ],
      "execution_count": null,
      "outputs": [
        {
          "output_type": "stream",
          "name": "stdout",
          "text": [
            "Date\n",
            "2016-01-04   NaN\n",
            "2016-01-05   NaN\n",
            "2016-01-06   NaN\n",
            "2016-01-07   NaN\n",
            "2016-01-08   NaN\n",
            "              ..\n",
            "2016-12-26   NaN\n",
            "2016-12-27   NaN\n",
            "2016-12-28   NaN\n",
            "2016-12-29   NaN\n",
            "2016-12-30   NaN\n",
            "Freq: D, Name: Close, Length: 362, dtype: float64\n",
            "Date\n",
            "2016-01-10    24.220577\n",
            "2016-01-17    22.981384\n",
            "2016-01-24    23.317047\n",
            "2016-01-31    22.988289\n",
            "2016-02-07    22.329412\n",
            "2016-02-14    21.961876\n",
            "2016-02-21    22.680771\n",
            "2016-02-28    22.401072\n",
            "2016-03-06    23.811110\n",
            "2016-03-13    23.637741\n",
            "2016-03-20    24.495321\n",
            "2016-03-27    24.668682\n",
            "2016-04-03    25.424561\n",
            "2016-04-10    25.685757\n",
            "2016-04-17    25.912289\n",
            "2016-04-24    24.844360\n",
            "2016-05-01    24.289591\n",
            "2016-05-08    22.001173\n",
            "2016-05-15    21.725819\n",
            "2016-05-22    22.144432\n",
            "2016-05-29    23.351416\n",
            "2016-06-05    23.223515\n",
            "2016-06-12    23.174675\n",
            "2016-06-19    22.686298\n",
            "2016-06-26    22.349081\n",
            "2016-07-03    22.300247\n",
            "2016-07-10    22.483965\n",
            "2016-07-17    22.974670\n",
            "2016-07-24    23.246769\n",
            "2016-07-31    24.265383\n",
            "2016-08-07    25.131029\n",
            "2016-08-14    25.442013\n",
            "2016-08-21    25.598669\n",
            "2016-08-28    25.451366\n",
            "2016-09-04    25.189487\n",
            "2016-09-11    25.336790\n",
            "2016-09-18    27.022638\n",
            "2016-09-25    26.800508\n",
            "2016-10-02    26.643848\n",
            "2016-10-09    26.669567\n",
            "2016-10-16    27.504307\n",
            "2016-10-23    27.485603\n",
            "2016-10-30    27.649279\n",
            "2016-11-06    26.547987\n",
            "2016-11-13    26.101435\n",
            "2016-11-20    25.866411\n",
            "2016-11-27    26.275352\n",
            "2016-12-04    26.221296\n",
            "2016-12-11    26.780642\n",
            "2016-12-18    27.255390\n",
            "2016-12-25    27.511562\n",
            "2017-01-01    27.558569\n",
            "Freq: W-SUN, Name: Close, dtype: float64\n",
            "Date\n",
            "2016-01-31    21.477800\n",
            "2016-02-29    21.659067\n",
            "2016-03-31    23.237846\n",
            "2016-04-30    21.668316\n",
            "2016-05-31    21.009533\n",
            "2016-06-30    21.404888\n",
            "2016-07-31    22.090944\n",
            "2016-08-31    24.297943\n",
            "2016-09-30    24.113913\n",
            "2016-10-31    26.309486\n",
            "2016-11-30    24.844070\n",
            "2016-12-31    25.643145\n",
            "Freq: M, Name: Close, dtype: float64\n"
          ]
        }
      ]
    },
    {
      "cell_type": "markdown",
      "metadata": {
        "id": "uqln0s5DMI3I"
      },
      "source": [
        "Often we want to calculate monthly returns of a stock, based on prices on the last day of each month. To fetch those prices, we use the series.resample.agg() method:"
      ]
    },
    {
      "cell_type": "code",
      "metadata": {
        "colab": {
          "base_uri": "https://localhost:8080/"
        },
        "id": "A6FSYvqbHW97",
        "outputId": "8d1fd60d-6d00-4c6c-e803-116d10ec0fdf"
      },
      "source": [
        "last_day = aapl.resample('M').agg(lambda x: x[-1])  # calculates monthly returns based on the last day of each monthon the last day of each month\n",
        "print(last_day)"
      ],
      "execution_count": null,
      "outputs": [
        {
          "output_type": "stream",
          "name": "stdout",
          "text": [
            "Date\n",
            "2016-01-31    22.379028\n",
            "2016-02-29    22.350214\n",
            "2016-03-31    25.193398\n",
            "2016-04-30    21.668316\n",
            "2016-05-31    23.223515\n",
            "2016-06-30    22.232805\n",
            "2016-07-31    24.235155\n",
            "2016-08-31    24.808357\n",
            "2016-09-30    26.433413\n",
            "2016-10-31    26.547987\n",
            "2016-11-30    25.974522\n",
            "2016-12-31    27.220135\n",
            "Freq: M, Name: Close, dtype: float64\n"
          ]
        }
      ]
    },
    {
      "cell_type": "markdown",
      "metadata": {
        "id": "uwomY3aXMR46"
      },
      "source": [
        "Or directly calculate the monthly rates of return using the data for the first day and the last day:"
      ]
    },
    {
      "cell_type": "code",
      "metadata": {
        "colab": {
          "base_uri": "https://localhost:8080/"
        },
        "id": "qK2NMJrNHW96",
        "outputId": "e4211cca-71c3-4bd5-dd47-7a04d2cf406d"
      },
      "source": [
        "monthly_return = aapl.resample('M').agg(lambda x: x[-1]/x[0] - 1)  # calculates monthly returns based in the first day and the last day of each month\n",
        "print(last_day)\n",
        "print(monthly_return)"
      ],
      "execution_count": null,
      "outputs": [
        {
          "output_type": "stream",
          "name": "stdout",
          "text": [
            "Date\n",
            "2016-01-31    22.379028\n",
            "2016-02-29    22.350214\n",
            "2016-03-31    25.193398\n",
            "2016-04-30    21.668316\n",
            "2016-05-31    23.223515\n",
            "2016-06-30    22.232805\n",
            "2016-07-31    24.235155\n",
            "2016-08-31    24.808357\n",
            "2016-09-30    26.433413\n",
            "2016-10-31    26.547987\n",
            "2016-11-30    25.974522\n",
            "2016-12-31    27.220135\n",
            "Freq: M, Name: Close, dtype: float64\n",
            "Date\n",
            "2016-01-31   -0.076032\n",
            "2016-02-29    0.008137\n",
            "2016-03-31    0.084154\n",
            "2016-04-30   -0.147741\n",
            "2016-05-31    0.072918\n",
            "2016-06-30   -0.029047\n",
            "2016-07-31    0.086766\n",
            "2016-08-31    0.005891\n",
            "2016-09-30    0.059215\n",
            "2016-10-31    0.009065\n",
            "2016-11-30   -0.003611\n",
            "2016-12-31    0.057814\n",
            "Freq: M, Name: Close, dtype: float64\n"
          ]
        }
      ]
    },
    {
      "cell_type": "markdown",
      "metadata": {
        "id": "_DYbMTFWMj8J"
      },
      "source": [
        "Series object also provides us some convenient methods to do some quick calculation."
      ]
    },
    {
      "cell_type": "code",
      "metadata": {
        "colab": {
          "base_uri": "https://localhost:8080/"
        },
        "id": "1Mxc0HwvHW98",
        "outputId": "0e90230d-99af-4ba6-951f-68a2c095c672"
      },
      "source": [
        "print(monthly_return.mean())  #prints mean of montly return\n",
        "print(monthly_return.std())   #prints the standard deviation of montly return\n",
        "print(monthly_return.max())   #prints max value of montly return"
      ],
      "execution_count": null,
      "outputs": [
        {
          "output_type": "stream",
          "name": "stdout",
          "text": [
            "0.010627356272480367\n",
            "0.07010957340189145\n",
            "0.08676620920457423\n"
          ]
        }
      ]
    },
    {
      "cell_type": "markdown",
      "metadata": {
        "id": "mn59J5dqMpqX"
      },
      "source": [
        "Another two methods frequently used on Series are .diff() and .pct_change(). The former calculates the difference between consecutive elements, and the latter calculates the percentage change."
      ]
    },
    {
      "cell_type": "code",
      "metadata": {
        "colab": {
          "base_uri": "https://localhost:8080/"
        },
        "id": "DupZTSqqHW99",
        "outputId": "5f7da082-f6ac-4484-e1c7-1331997b6385"
      },
      "source": [
        "print(last_day.diff())  # calculates the difference between months\n",
        "print(last_day.pct_change())  #calculates the percentage change"
      ],
      "execution_count": null,
      "outputs": [
        {
          "output_type": "stream",
          "name": "stdout",
          "text": [
            "Date\n",
            "2016-01-31         NaN\n",
            "2016-02-29   -0.028814\n",
            "2016-03-31    2.843184\n",
            "2016-04-30   -3.525082\n",
            "2016-05-31    1.555199\n",
            "2016-06-30   -0.990709\n",
            "2016-07-31    2.002350\n",
            "2016-08-31    0.573202\n",
            "2016-09-30    1.625055\n",
            "2016-10-31    0.114574\n",
            "2016-11-30   -0.573465\n",
            "2016-12-31    1.245613\n",
            "Freq: M, Name: Close, dtype: float64\n",
            "Date\n",
            "2016-01-31         NaN\n",
            "2016-02-29   -0.001288\n",
            "2016-03-31    0.127211\n",
            "2016-04-30   -0.139921\n",
            "2016-05-31    0.071773\n",
            "2016-06-30   -0.042660\n",
            "2016-07-31    0.090063\n",
            "2016-08-31    0.023652\n",
            "2016-09-30    0.065504\n",
            "2016-10-31    0.004334\n",
            "2016-11-30   -0.021601\n",
            "2016-12-31    0.047955\n",
            "Freq: M, Name: Close, dtype: float64\n"
          ]
        }
      ]
    },
    {
      "cell_type": "markdown",
      "metadata": {
        "id": "RaMAOFepM6Io"
      },
      "source": [
        "Notice that we induced a NaN value while calculating percentage changes i.e. returns.\n",
        "\n",
        "When dealing with NaN values, we usually either removing the data point or fill it with a specific value. Here we fill it with 0:"
      ]
    },
    {
      "cell_type": "code",
      "metadata": {
        "colab": {
          "base_uri": "https://localhost:8080/"
        },
        "id": "-xyLb3A3HW99",
        "outputId": "64d21a28-2652-4d14-8196-dd4fadfbdee7"
      },
      "source": [
        "daily_return = last_day.pct_change()\n",
        "print(daily_return.fillna(0))   #changes NaN value"
      ],
      "execution_count": null,
      "outputs": [
        {
          "output_type": "stream",
          "name": "stdout",
          "text": [
            "Date\n",
            "2016-01-31    0.000000\n",
            "2016-02-29   -0.001288\n",
            "2016-03-31    0.127211\n",
            "2016-04-30   -0.139921\n",
            "2016-05-31    0.071773\n",
            "2016-06-30   -0.042660\n",
            "2016-07-31    0.090063\n",
            "2016-08-31    0.023652\n",
            "2016-09-30    0.065504\n",
            "2016-10-31    0.004334\n",
            "2016-11-30   -0.021601\n",
            "2016-12-31    0.047955\n",
            "Freq: M, Name: Close, dtype: float64\n"
          ]
        }
      ]
    },
    {
      "cell_type": "markdown",
      "metadata": {
        "id": "BYS10Om1NQVC"
      },
      "source": [
        "Alternatively, we can fill a NaN with the next fitted value. This is called 'backward fill', or 'bfill' in short:"
      ]
    },
    {
      "cell_type": "code",
      "metadata": {
        "colab": {
          "base_uri": "https://localhost:8080/"
        },
        "id": "J513kHeKHW9-",
        "outputId": "439004a3-408f-4b49-83b9-283209623524"
      },
      "source": [
        "daily_return = last_day.pct_change()\n",
        "print(daily_return.fillna(method = 'bfill'))  #changes NaN value with the next value"
      ],
      "execution_count": null,
      "outputs": [
        {
          "output_type": "stream",
          "name": "stdout",
          "text": [
            "Date\n",
            "2016-01-31   -0.001288\n",
            "2016-02-29   -0.001288\n",
            "2016-03-31    0.127211\n",
            "2016-04-30   -0.139921\n",
            "2016-05-31    0.071773\n",
            "2016-06-30   -0.042660\n",
            "2016-07-31    0.090063\n",
            "2016-08-31    0.023652\n",
            "2016-09-30    0.065504\n",
            "2016-10-31    0.004334\n",
            "2016-11-30   -0.021601\n",
            "2016-12-31    0.047955\n",
            "Freq: M, Name: Close, dtype: float64\n"
          ]
        }
      ]
    },
    {
      "cell_type": "markdown",
      "metadata": {
        "id": "bj8QUSgdNepf"
      },
      "source": [
        "As expected, since there is a 'backward fill' method, there must be a 'forward fill' method, or 'ffill' in short. However we can't use it here because the NaN is the first value.\n",
        "\n",
        "We can also simply remove NaN values by **_.dropna()_**"
      ]
    },
    {
      "cell_type": "code",
      "metadata": {
        "colab": {
          "base_uri": "https://localhost:8080/"
        },
        "id": "WG5ux1lqHW9-",
        "outputId": "e0b991eb-d812-4caf-c589-232c81e8669e"
      },
      "source": [
        "daily_return = last_day.pct_change()\n",
        "daily_return.dropna()   #removes NaN value"
      ],
      "execution_count": null,
      "outputs": [
        {
          "output_type": "execute_result",
          "data": {
            "text/plain": [
              "Date\n",
              "2016-02-29   -0.001288\n",
              "2016-03-31    0.127211\n",
              "2016-04-30   -0.139921\n",
              "2016-05-31    0.071773\n",
              "2016-06-30   -0.042660\n",
              "2016-07-31    0.090063\n",
              "2016-08-31    0.023652\n",
              "2016-09-30    0.065504\n",
              "2016-10-31    0.004334\n",
              "2016-11-30   -0.021601\n",
              "2016-12-31    0.047955\n",
              "Freq: M, Name: Close, dtype: float64"
            ]
          },
          "metadata": {},
          "execution_count": 109
        }
      ]
    },
    {
      "cell_type": "markdown",
      "metadata": {
        "id": "nQH2eBWkNjdC"
      },
      "source": [
        "# DataFrame\n",
        "The **DataFrame** is the most commonly used data structure in Pandas. It is essentially a table, just like an Excel spreadsheet.\n",
        "\n",
        "More precisely, a DataFrame is a collection of Series objects, each of which may contain different data types. A DataFrame can be created from various data types: dictionary, 2-D numpy.ndarray, a Series or another DataFrame.\n",
        "\n",
        "## Create DataFrames\n",
        "The most common method of creating a DataFrame is passing a dictionary:"
      ]
    },
    {
      "cell_type": "code",
      "metadata": {
        "colab": {
          "base_uri": "https://localhost:8080/"
        },
        "id": "vd5Wf1ohHW9-",
        "outputId": "3519d347-0a4e-470a-de69-b8955e9b8fdd"
      },
      "source": [
        "import pandas as pd\n",
        "\n",
        "dict = {'PS4': [143.5, 144.09, 142.73, 144.18, 143.77],'XBOX_ONE':[898.7, 911.71, 906.69, 918.59, 926.99],\n",
        "        'NINTENDO':[155.58, 153.67, 152.36, 152.94, 153.49]}\n",
        "data_index = pd.date_range('2020-01-01',periods = 5, freq = 'D')\n",
        "df = pd.DataFrame(dict, index = data_index)\n",
        "print(df)"
      ],
      "execution_count": null,
      "outputs": [
        {
          "output_type": "stream",
          "name": "stdout",
          "text": [
            "               PS4  XBOX_ONE  NINTENDO\n",
            "2020-01-01  143.50    898.70    155.58\n",
            "2020-01-02  144.09    911.71    153.67\n",
            "2020-01-03  142.73    906.69    152.36\n",
            "2020-01-04  144.18    918.59    152.94\n",
            "2020-01-05  143.77    926.99    153.49\n"
          ]
        }
      ]
    },
    {
      "cell_type": "markdown",
      "metadata": {
        "id": "0uYmLQTgOPnX"
      },
      "source": [
        "## Manipulating DataFrames\n",
        "We can fetch values in a DataFrame by columns and index. Each column in a DataFrame is essentially a Pandas Series. We can fetch a column by square brackets: **df['column_name']**\n",
        "\n",
        "If a column name contains no spaces, then we can also use df.column_name to fetch a column:"
      ]
    },
    {
      "cell_type": "code",
      "metadata": {
        "colab": {
          "base_uri": "https://localhost:8080/"
        },
        "id": "2pB2f7lBHW9_",
        "outputId": "8be427ad-768b-4c3c-c463-72a660d0e7f7"
      },
      "source": [
        "df = aapl_table\n",
        "print(df.Close.tail(5))  #Prints last 5 Apple's daily closing prices\n",
        "print(df['Volume'].tail(5))"
      ],
      "execution_count": null,
      "outputs": [
        {
          "output_type": "stream",
          "name": "stdout",
          "text": [
            "Date\n",
            "2017-12-22    41.792454\n",
            "2017-12-26    40.732178\n",
            "2017-12-27    40.739357\n",
            "2017-12-28    40.853973\n",
            "2017-12-29    40.412189\n",
            "Name: Close, dtype: float64\n",
            "Date\n",
            "2017-12-22     65397600\n",
            "2017-12-26    132742000\n",
            "2017-12-27     85992800\n",
            "2017-12-28     65920800\n",
            "2017-12-29    103999600\n",
            "Name: Volume, dtype: int64\n"
          ]
        }
      ]
    },
    {
      "cell_type": "markdown",
      "metadata": {
        "id": "z0ugOel9O4-P"
      },
      "source": [
        "All the methods we applied to a Series index such as iloc[], loc[] and resampling methods, can also be applied to a DataFrame:"
      ]
    },
    {
      "cell_type": "code",
      "metadata": {
        "colab": {
          "base_uri": "https://localhost:8080/"
        },
        "id": "_8dfjkedHW9_",
        "outputId": "6cd8bece-1864-4956-e7ab-b6e0cedf51e4"
      },
      "source": [
        "aapl_2016 = df['2016']   #creates df with 2016 values\n",
        "aapl_month = aapl_2016.resample('M').agg(lambda x: x[-1]) #creates df with 2016 values and montly values\n",
        "print(aapl_month)"
      ],
      "execution_count": null,
      "outputs": [
        {
          "output_type": "stream",
          "name": "stdout",
          "text": [
            "                 Open       High        Low      Close     Volume  Dividends  \\\n",
            "Date                                                                           \n",
            "2016-01-31  21.792770  22.379028  21.691611  22.379028  257666000        0.0   \n",
            "2016-02-29  22.389510  22.706190  22.340968  22.350214  140865200        0.0   \n",
            "2016-03-31  25.362140  25.403748  25.167971  25.193398  103553600        0.0   \n",
            "2016-04-30  21.726104  21.894847  21.383998  21.668316  274126000        0.0   \n",
            "2016-05-31  23.163048  23.349098  22.981651  23.223515  169228800        0.0   \n",
            "2016-06-30  21.963036  22.272340  21.930477  22.232805  143345600        0.0   \n",
            "2016-07-31  24.230505  24.314227  24.111898  24.235155  110934800        0.0   \n",
            "2016-08-31  24.705477  24.918253  24.700800  24.808357  118649600        0.0   \n",
            "2016-09-30  26.295458  26.508235  26.141137  26.433413  145516400        0.0   \n",
            "2016-10-31  26.573707  26.709324  26.468487  26.547987  105677600        0.0   \n",
            "2016-11-30  26.228345  26.369357  25.915766  25.974522  144649200        0.0   \n",
            "2016-12-31  27.415203  27.544463  27.128477  27.220135  122345200        0.0   \n",
            "\n",
            "            Stock Splits  \n",
            "Date                      \n",
            "2016-01-31             0  \n",
            "2016-02-29             0  \n",
            "2016-03-31             0  \n",
            "2016-04-30             0  \n",
            "2016-05-31             0  \n",
            "2016-06-30             0  \n",
            "2016-07-31             0  \n",
            "2016-08-31             0  \n",
            "2016-09-30             0  \n",
            "2016-10-31             0  \n",
            "2016-11-30             0  \n",
            "2016-12-31             0  \n"
          ]
        },
        {
          "output_type": "stream",
          "name": "stderr",
          "text": [
            "/usr/local/lib/python3.7/dist-packages/ipykernel_launcher.py:1: FutureWarning: Indexing a DataFrame with a datetimelike index using a single string to slice the rows, like `frame[string]`, is deprecated and will be removed in a future version. Use `frame.loc[string]` instead.\n",
            "  \"\"\"Entry point for launching an IPython kernel.\n"
          ]
        }
      ]
    },
    {
      "cell_type": "markdown",
      "metadata": {
        "id": "CqrbrbFZPTJe"
      },
      "source": [
        "We may select certain columns of a DataFrame using their names:"
      ]
    },
    {
      "cell_type": "code",
      "metadata": {
        "colab": {
          "base_uri": "https://localhost:8080/"
        },
        "id": "7bQGeyCAHW9_",
        "outputId": "2bab7e5a-8da9-498a-fb9c-663496420180"
      },
      "source": [
        "aapl_bar = aapl_month[['Open', 'High', 'Low', 'Close']] #creates df with 'Open', 'High', 'Low', 'Close' columns\n",
        "print(aapl_bar)"
      ],
      "execution_count": null,
      "outputs": [
        {
          "output_type": "stream",
          "name": "stdout",
          "text": [
            "                 Open       High        Low      Close\n",
            "Date                                                  \n",
            "2016-01-31  21.792770  22.379028  21.691611  22.379028\n",
            "2016-02-29  22.389510  22.706190  22.340968  22.350214\n",
            "2016-03-31  25.362140  25.403748  25.167971  25.193398\n",
            "2016-04-30  21.726104  21.894847  21.383998  21.668316\n",
            "2016-05-31  23.163048  23.349098  22.981651  23.223515\n",
            "2016-06-30  21.963036  22.272340  21.930477  22.232805\n",
            "2016-07-31  24.230505  24.314227  24.111898  24.235155\n",
            "2016-08-31  24.705477  24.918253  24.700800  24.808357\n",
            "2016-09-30  26.295458  26.508235  26.141137  26.433413\n",
            "2016-10-31  26.573707  26.709324  26.468487  26.547987\n",
            "2016-11-30  26.228345  26.369357  25.915766  25.974522\n",
            "2016-12-31  27.415203  27.544463  27.128477  27.220135\n"
          ]
        }
      ]
    },
    {
      "cell_type": "markdown",
      "metadata": {
        "id": "8CQaZCAQP68O"
      },
      "source": [
        "We can even specify both rows and columns using loc[]. The row indices and column names are separated by a comma:"
      ]
    },
    {
      "cell_type": "code",
      "metadata": {
        "colab": {
          "base_uri": "https://localhost:8080/"
        },
        "id": "YjWWiHVpHW-A",
        "outputId": "41df24d9-ef48-4e3e-bf37-be4eea9b67c9"
      },
      "source": [
        "print(aapl_month.loc['2016-03':'2016-06',['Open', 'High', 'Low', 'Close']])   #prints df with values  on a specific date"
      ],
      "execution_count": null,
      "outputs": [
        {
          "output_type": "stream",
          "name": "stdout",
          "text": [
            "                 Open       High        Low      Close\n",
            "Date                                                  \n",
            "2016-03-31  25.362140  25.403748  25.167971  25.193398\n",
            "2016-04-30  21.726104  21.894847  21.383998  21.668316\n",
            "2016-05-31  23.163048  23.349098  22.981651  23.223515\n",
            "2016-06-30  21.963036  22.272340  21.930477  22.232805\n"
          ]
        }
      ]
    },
    {
      "cell_type": "markdown",
      "metadata": {
        "id": "Xcn_pHNLQBEH"
      },
      "source": [
        "The subset methods in DataFrame is quite useful. By writing logical statements in square brackets, we can make customized subsets:"
      ]
    },
    {
      "cell_type": "code",
      "metadata": {
        "colab": {
          "base_uri": "https://localhost:8080/"
        },
        "id": "RxKg4dObHW-A",
        "outputId": "62c71639-c9a7-445a-de0f-982748456eb1"
      },
      "source": [
        "import numpy as np\n",
        "\n",
        "above = aapl_bar[aapl_bar.Close > aapl_bar.Open]  #selects columns where the open price is greater than the close price\n",
        "print(above)"
      ],
      "execution_count": null,
      "outputs": [
        {
          "output_type": "stream",
          "name": "stdout",
          "text": [
            "                 Open       High        Low      Close\n",
            "Date                                                  \n",
            "2016-01-31  21.792770  22.379028  21.691611  22.379028\n",
            "2016-05-31  23.163048  23.349098  22.981651  23.223515\n",
            "2016-06-30  21.963036  22.272340  21.930477  22.232805\n",
            "2016-07-31  24.230505  24.314227  24.111898  24.235155\n",
            "2016-08-31  24.705477  24.918253  24.700800  24.808357\n",
            "2016-09-30  26.295458  26.508235  26.141137  26.433413\n"
          ]
        }
      ]
    },
    {
      "cell_type": "markdown",
      "metadata": {
        "id": "wcm_UadkQLL5"
      },
      "source": [
        "## Data Validation\n",
        "As mentioned, all methods that apply to a Series can also be applied to a DataFrame. Here we add a new column to an existing DataFrame:"
      ]
    },
    {
      "cell_type": "code",
      "metadata": {
        "colab": {
          "base_uri": "https://localhost:8080/"
        },
        "id": "jZXFdOVFHW-A",
        "outputId": "6389460b-2851-40f2-d707-6dbaf113d602"
      },
      "source": [
        "aapl_bar['rate_return'] = aapl_bar.Close.pct_change()  #adds rate_return column\n",
        "print(aapl_bar)"
      ],
      "execution_count": null,
      "outputs": [
        {
          "output_type": "stream",
          "name": "stdout",
          "text": [
            "                 Open       High        Low      Close  rate_return\n",
            "Date                                                               \n",
            "2016-01-31  21.792770  22.379028  21.691611  22.379028          NaN\n",
            "2016-02-29  22.389510  22.706190  22.340968  22.350214    -0.001288\n",
            "2016-03-31  25.362140  25.403748  25.167971  25.193398     0.127211\n",
            "2016-04-30  21.726104  21.894847  21.383998  21.668316    -0.139921\n",
            "2016-05-31  23.163048  23.349098  22.981651  23.223515     0.071773\n",
            "2016-06-30  21.963036  22.272340  21.930477  22.232805    -0.042660\n",
            "2016-07-31  24.230505  24.314227  24.111898  24.235155     0.090063\n",
            "2016-08-31  24.705477  24.918253  24.700800  24.808357     0.023652\n",
            "2016-09-30  26.295458  26.508235  26.141137  26.433413     0.065504\n",
            "2016-10-31  26.573707  26.709324  26.468487  26.547987     0.004334\n",
            "2016-11-30  26.228345  26.369357  25.915766  25.974522    -0.021601\n",
            "2016-12-31  27.415203  27.544463  27.128477  27.220135     0.047955\n"
          ]
        },
        {
          "output_type": "stream",
          "name": "stderr",
          "text": [
            "/usr/local/lib/python3.7/dist-packages/ipykernel_launcher.py:1: SettingWithCopyWarning: \n",
            "A value is trying to be set on a copy of a slice from a DataFrame.\n",
            "Try using .loc[row_indexer,col_indexer] = value instead\n",
            "\n",
            "See the caveats in the documentation: https://pandas.pydata.org/pandas-docs/stable/user_guide/indexing.html#returning-a-view-versus-a-copy\n",
            "  \"\"\"Entry point for launching an IPython kernel.\n"
          ]
        }
      ]
    },
    {
      "cell_type": "markdown",
      "metadata": {
        "id": "_or6n5-LQUa-"
      },
      "source": [
        "Here the calculation introduced a NaN value. If the DataFrame is large, we would not be able to observe it. **isnull()** provides a convenient way to check abnormal values."
      ]
    },
    {
      "cell_type": "code",
      "metadata": {
        "colab": {
          "base_uri": "https://localhost:8080/"
        },
        "id": "V5wgmhIPHW-B",
        "outputId": "b779160c-7aba-4452-c09d-12ec4fff0dff"
      },
      "source": [
        "missing = aapl_bar.isnull()   #checks NaN values\n",
        "print(missing)\n",
        "print('---------------------------------------------')\n",
        "print(missing.describe())  #counts abnormal values"
      ],
      "execution_count": null,
      "outputs": [
        {
          "output_type": "stream",
          "name": "stdout",
          "text": [
            "             Open   High    Low  Close  rate_return\n",
            "Date                                               \n",
            "2016-01-31  False  False  False  False         True\n",
            "2016-02-29  False  False  False  False        False\n",
            "2016-03-31  False  False  False  False        False\n",
            "2016-04-30  False  False  False  False        False\n",
            "2016-05-31  False  False  False  False        False\n",
            "2016-06-30  False  False  False  False        False\n",
            "2016-07-31  False  False  False  False        False\n",
            "2016-08-31  False  False  False  False        False\n",
            "2016-09-30  False  False  False  False        False\n",
            "2016-10-31  False  False  False  False        False\n",
            "2016-11-30  False  False  False  False        False\n",
            "2016-12-31  False  False  False  False        False\n",
            "---------------------------------------------\n",
            "         Open   High    Low  Close rate_return\n",
            "count      12     12     12     12          12\n",
            "unique      1      1      1      1           2\n",
            "top     False  False  False  False       False\n",
            "freq       12     12     12     12          11\n"
          ]
        }
      ]
    },
    {
      "cell_type": "markdown",
      "metadata": {
        "id": "d6KFV4i0QfLW"
      },
      "source": [
        "The row labelled \"unique\" indicates the number of unique values in each column. Since the \"rate_return\" column has 2 unique values, it has at least one missing value.\n",
        "\n",
        "We can deduce the number of missing values by comparing \"count\" with \"freq\". There are 12 counts and 11 False values, so there is one True value which corresponds to the missing value.\n",
        "\n",
        "We can also find the rows with missing values easily:"
      ]
    },
    {
      "cell_type": "code",
      "metadata": {
        "colab": {
          "base_uri": "https://localhost:8080/"
        },
        "id": "Eo0ZAhCsHW-B",
        "outputId": "f8b07f3d-222e-4fb2-84f0-cf5cef5fd467"
      },
      "source": [
        "print(missing[missing.rate_return == True])  #finds columns with missing values"
      ],
      "execution_count": null,
      "outputs": [
        {
          "output_type": "stream",
          "name": "stdout",
          "text": [
            "             Open   High    Low  Close  rate_return\n",
            "Date                                               \n",
            "2016-01-31  False  False  False  False         True\n"
          ]
        }
      ]
    },
    {
      "cell_type": "markdown",
      "metadata": {
        "id": "qgggpD8OQkZX"
      },
      "source": [
        "Usually when dealing with missing data, we either delete the whole row or fill it with some value. As we introduced in the Series chapter, the same method **dropna()** and **fillna()** can be applied to a DataFrame."
      ]
    },
    {
      "cell_type": "code",
      "metadata": {
        "colab": {
          "base_uri": "https://localhost:8080/"
        },
        "id": "j8PaIokjHW-B",
        "outputId": "8a8baf58-5463-495c-9e95-a3ed3d188c97"
      },
      "source": [
        "drop = aapl_bar.dropna()\n",
        "print(drop)\n",
        "print('\\n--------------------------------------------------\\n')\n",
        "fill = aapl_bar.fillna(0)  #fills missing data with 0\n",
        "print(fill)"
      ],
      "execution_count": null,
      "outputs": [
        {
          "output_type": "stream",
          "name": "stdout",
          "text": [
            "                 Open       High        Low      Close  rate_return\n",
            "Date                                                               \n",
            "2016-02-29  22.389510  22.706190  22.340968  22.350214    -0.001288\n",
            "2016-03-31  25.362140  25.403748  25.167971  25.193398     0.127211\n",
            "2016-04-30  21.726104  21.894847  21.383998  21.668316    -0.139921\n",
            "2016-05-31  23.163048  23.349098  22.981651  23.223515     0.071773\n",
            "2016-06-30  21.963036  22.272340  21.930477  22.232805    -0.042660\n",
            "2016-07-31  24.230505  24.314227  24.111898  24.235155     0.090063\n",
            "2016-08-31  24.705477  24.918253  24.700800  24.808357     0.023652\n",
            "2016-09-30  26.295458  26.508235  26.141137  26.433413     0.065504\n",
            "2016-10-31  26.573707  26.709324  26.468487  26.547987     0.004334\n",
            "2016-11-30  26.228345  26.369357  25.915766  25.974522    -0.021601\n",
            "2016-12-31  27.415203  27.544463  27.128477  27.220135     0.047955\n",
            "\n",
            "--------------------------------------------------\n",
            "\n",
            "                 Open       High        Low      Close  rate_return\n",
            "Date                                                               \n",
            "2016-01-31  21.792770  22.379028  21.691611  22.379028     0.000000\n",
            "2016-02-29  22.389510  22.706190  22.340968  22.350214    -0.001288\n",
            "2016-03-31  25.362140  25.403748  25.167971  25.193398     0.127211\n",
            "2016-04-30  21.726104  21.894847  21.383998  21.668316    -0.139921\n",
            "2016-05-31  23.163048  23.349098  22.981651  23.223515     0.071773\n",
            "2016-06-30  21.963036  22.272340  21.930477  22.232805    -0.042660\n",
            "2016-07-31  24.230505  24.314227  24.111898  24.235155     0.090063\n",
            "2016-08-31  24.705477  24.918253  24.700800  24.808357     0.023652\n",
            "2016-09-30  26.295458  26.508235  26.141137  26.433413     0.065504\n",
            "2016-10-31  26.573707  26.709324  26.468487  26.547987     0.004334\n",
            "2016-11-30  26.228345  26.369357  25.915766  25.974522    -0.021601\n",
            "2016-12-31  27.415203  27.544463  27.128477  27.220135     0.047955\n"
          ]
        }
      ]
    },
    {
      "cell_type": "markdown",
      "metadata": {
        "id": "0tvoFlKWQxYG"
      },
      "source": [
        "## DataFrame Concat\n",
        "We have seen how to extract a Series from a dataFrame. Now we need to consider how to merge a Series or a DataFrame into another one.\n",
        "\n",
        "In Pandas, the function **concat()** allows us to merge multiple Series into a DataFrame:"
      ]
    },
    {
      "cell_type": "code",
      "metadata": {
        "colab": {
          "base_uri": "https://localhost:8080/"
        },
        "id": "uQrmLIWKHW-C",
        "outputId": "9d0fb56b-373f-461e-82d0-14ba8bac3276"
      },
      "source": [
        "s1 = pd.Series([143.5, 144.09, 142.73, 144.18, 143.77], name = 'Xbox')\n",
        "s2 = pd.Series([898.7, 911.71, 906.69, 918.59, 926.99], name = 'Play Station')\n",
        "data_frame = pd.concat([s1,s2], axis = 1)  #merge s1 and s2 datafraames\n",
        "print(data_frame)"
      ],
      "execution_count": null,
      "outputs": [
        {
          "output_type": "stream",
          "name": "stdout",
          "text": [
            "     Xbox  Play Station\n",
            "0  143.50        898.70\n",
            "1  144.09        911.71\n",
            "2  142.73        906.69\n",
            "3  144.18        918.59\n",
            "4  143.77        926.99\n"
          ]
        }
      ]
    },
    {
      "cell_type": "markdown",
      "metadata": {
        "id": "3ojbNYJLR2vv"
      },
      "source": [
        "The \"axis = 1\" parameter will join two DataFrames by columns:"
      ]
    },
    {
      "cell_type": "code",
      "metadata": {
        "colab": {
          "base_uri": "https://localhost:8080/"
        },
        "id": "DJsaLd-cRoIm",
        "outputId": "9e3cebbb-0c1b-4340-a2cb-471c19aaeae6"
      },
      "source": [
        "log_price = np.log(aapl_bar.Close)\n",
        "log_price.name = 'log_price'\n",
        "print(log_price)\n",
        "print('\\n---------------------- separate line--------------------\\n')\n",
        "concat = pd.concat([aapl_bar, log_price], axis = 1)  #merges aapl_bar and log_price datafraames by columns\n",
        "print(concat)"
      ],
      "execution_count": null,
      "outputs": [
        {
          "output_type": "stream",
          "name": "stdout",
          "text": [
            "Date\n",
            "2016-01-31    3.108124\n",
            "2016-02-29    3.106836\n",
            "2016-03-31    3.226582\n",
            "2016-04-30    3.075851\n",
            "2016-05-31    3.145165\n",
            "2016-06-30    3.101569\n",
            "2016-07-31    3.187804\n",
            "2016-08-31    3.211181\n",
            "2016-09-30    3.274629\n",
            "2016-10-31    3.278954\n",
            "2016-11-30    3.257116\n",
            "2016-12-31    3.303957\n",
            "Freq: M, Name: log_price, dtype: float64\n",
            "\n",
            "---------------------- separate line--------------------\n",
            "\n",
            "                 Open       High        Low      Close  rate_return  log_price\n",
            "Date                                                                          \n",
            "2016-01-31  21.792770  22.379028  21.691611  22.379028          NaN   3.108124\n",
            "2016-02-29  22.389510  22.706190  22.340968  22.350214    -0.001288   3.106836\n",
            "2016-03-31  25.362140  25.403748  25.167971  25.193398     0.127211   3.226582\n",
            "2016-04-30  21.726104  21.894847  21.383998  21.668316    -0.139921   3.075851\n",
            "2016-05-31  23.163048  23.349098  22.981651  23.223515     0.071773   3.145165\n",
            "2016-06-30  21.963036  22.272340  21.930477  22.232805    -0.042660   3.101569\n",
            "2016-07-31  24.230505  24.314227  24.111898  24.235155     0.090063   3.187804\n",
            "2016-08-31  24.705477  24.918253  24.700800  24.808357     0.023652   3.211181\n",
            "2016-09-30  26.295458  26.508235  26.141137  26.433413     0.065504   3.274629\n",
            "2016-10-31  26.573707  26.709324  26.468487  26.547987     0.004334   3.278954\n",
            "2016-11-30  26.228345  26.369357  25.915766  25.974522    -0.021601   3.257116\n",
            "2016-12-31  27.415203  27.544463  27.128477  27.220135     0.047955   3.303957\n"
          ]
        }
      ]
    },
    {
      "cell_type": "markdown",
      "metadata": {
        "id": "mIZz-FUyR_62"
      },
      "source": [
        "We can also join two DataFrames by rows. Consider these two DataFrames:"
      ]
    },
    {
      "cell_type": "code",
      "metadata": {
        "colab": {
          "base_uri": "https://localhost:8080/"
        },
        "id": "W7uXZptLHW-C",
        "outputId": "e76d51e3-8e9e-4daa-ebc3-a634b601fe17"
      },
      "source": [
        "df_volume = aapl_table.loc['2016-10':'2017-04',['Volume', 'Stock Splits']].resample('M').agg(lambda x: x[-1])\n",
        "print(df_volume)\n",
        "print('\\n---------------------- separate line--------------------\\n')\n",
        "df_2017 = aapl_table.loc['2016-10':'2017-04',['Open', 'High', 'Low', 'Close']].resample('M').agg(lambda x: x[-1])\n",
        "print(df_2017)"
      ],
      "execution_count": null,
      "outputs": [
        {
          "output_type": "stream",
          "name": "stdout",
          "text": [
            "               Volume  Stock Splits\n",
            "Date                               \n",
            "2016-10-31  105677600             0\n",
            "2016-11-30  144649200             0\n",
            "2016-12-31  122345200             0\n",
            "2017-01-31  196804000             0\n",
            "2017-02-28   93931600             0\n",
            "2017-03-31   78646800             0\n",
            "2017-04-30   83441600             0\n",
            "\n",
            "---------------------- separate line--------------------\n",
            "\n",
            "                 Open       High        Low      Close\n",
            "Date                                                  \n",
            "2016-10-31  26.573707  26.709324  26.468487  26.547987\n",
            "2016-11-30  26.228345  26.369357  25.915766  25.974522\n",
            "2016-12-31  27.415203  27.544463  27.128477  27.220135\n",
            "2017-01-31  28.472797  28.529201  28.348236  28.519800\n",
            "2017-02-28  32.356352  32.441327  32.266656  32.335110\n",
            "2017-03-31  33.923666  34.053488  33.756076  33.909504\n",
            "2017-04-30  34.011005  34.060575  33.817454  33.907146\n"
          ]
        }
      ]
    },
    {
      "cell_type": "markdown",
      "metadata": {
        "id": "iZk_C9aSSLeP"
      },
      "source": [
        "Now we merge the DataFrames with our DataFrame 'aapl_bar'"
      ]
    },
    {
      "cell_type": "code",
      "metadata": {
        "colab": {
          "base_uri": "https://localhost:8080/"
        },
        "id": "aFqmjokOHW-C",
        "outputId": "e692164c-e16e-4590-f4c1-d7d701c08da6"
      },
      "source": [
        "concat = pd.concat([aapl_bar, df_volume], axis = 1)   #merges aapl_bar and df_volume data frames by columns\n",
        "print(concat)"
      ],
      "execution_count": null,
      "outputs": [
        {
          "output_type": "stream",
          "name": "stdout",
          "text": [
            "                 Open       High        Low      Close  rate_return  \\\n",
            "Date                                                                  \n",
            "2016-01-31  21.792770  22.379028  21.691611  22.379028          NaN   \n",
            "2016-02-29  22.389510  22.706190  22.340968  22.350214    -0.001288   \n",
            "2016-03-31  25.362140  25.403748  25.167971  25.193398     0.127211   \n",
            "2016-04-30  21.726104  21.894847  21.383998  21.668316    -0.139921   \n",
            "2016-05-31  23.163048  23.349098  22.981651  23.223515     0.071773   \n",
            "2016-06-30  21.963036  22.272340  21.930477  22.232805    -0.042660   \n",
            "2016-07-31  24.230505  24.314227  24.111898  24.235155     0.090063   \n",
            "2016-08-31  24.705477  24.918253  24.700800  24.808357     0.023652   \n",
            "2016-09-30  26.295458  26.508235  26.141137  26.433413     0.065504   \n",
            "2016-10-31  26.573707  26.709324  26.468487  26.547987     0.004334   \n",
            "2016-11-30  26.228345  26.369357  25.915766  25.974522    -0.021601   \n",
            "2016-12-31  27.415203  27.544463  27.128477  27.220135     0.047955   \n",
            "2017-01-31        NaN        NaN        NaN        NaN          NaN   \n",
            "2017-02-28        NaN        NaN        NaN        NaN          NaN   \n",
            "2017-03-31        NaN        NaN        NaN        NaN          NaN   \n",
            "2017-04-30        NaN        NaN        NaN        NaN          NaN   \n",
            "\n",
            "                 Volume  Stock Splits  \n",
            "Date                                   \n",
            "2016-01-31          NaN           NaN  \n",
            "2016-02-29          NaN           NaN  \n",
            "2016-03-31          NaN           NaN  \n",
            "2016-04-30          NaN           NaN  \n",
            "2016-05-31          NaN           NaN  \n",
            "2016-06-30          NaN           NaN  \n",
            "2016-07-31          NaN           NaN  \n",
            "2016-08-31          NaN           NaN  \n",
            "2016-09-30          NaN           NaN  \n",
            "2016-10-31  105677600.0           0.0  \n",
            "2016-11-30  144649200.0           0.0  \n",
            "2016-12-31  122345200.0           0.0  \n",
            "2017-01-31  196804000.0           0.0  \n",
            "2017-02-28   93931600.0           0.0  \n",
            "2017-03-31   78646800.0           0.0  \n",
            "2017-04-30   83441600.0           0.0  \n"
          ]
        }
      ]
    },
    {
      "cell_type": "markdown",
      "metadata": {
        "id": "7yI3tgB4SR4O"
      },
      "source": [
        "By default the DataFrame are joined with all of the data. This default options results in zero information loss. We can also merge them by intersection, this is called 'inner join"
      ]
    },
    {
      "cell_type": "code",
      "metadata": {
        "colab": {
          "base_uri": "https://localhost:8080/"
        },
        "id": "31QGLyijHW-C",
        "outputId": "37126f5f-5d75-4319-b83e-ba3de663ddf0"
      },
      "source": [
        "concat = pd.concat([aapl_bar,df_volume],axis = 1, join = 'inner')   # merges aapl_bar and df_volume by inner join (compares date)\n",
        "print(concat)  "
      ],
      "execution_count": null,
      "outputs": [
        {
          "output_type": "stream",
          "name": "stdout",
          "text": [
            "                 Open       High        Low      Close  rate_return  \\\n",
            "Date                                                                  \n",
            "2016-10-31  26.573707  26.709324  26.468487  26.547987     0.004334   \n",
            "2016-11-30  26.228345  26.369357  25.915766  25.974522    -0.021601   \n",
            "2016-12-31  27.415203  27.544463  27.128477  27.220135     0.047955   \n",
            "\n",
            "               Volume  Stock Splits  \n",
            "Date                                 \n",
            "2016-10-31  105677600             0  \n",
            "2016-11-30  144649200             0  \n",
            "2016-12-31  122345200             0  \n"
          ]
        }
      ]
    },
    {
      "cell_type": "markdown",
      "metadata": {
        "id": "oudcWMm5Sd0u"
      },
      "source": [
        "Only the intersection part was left if use 'inner join' method. Now let's try to append a DataFrame to another one:"
      ]
    },
    {
      "cell_type": "code",
      "metadata": {
        "colab": {
          "base_uri": "https://localhost:8080/"
        },
        "id": "lgw0qaOsHW-D",
        "outputId": "eca0c3ee-a230-4535-8dcf-215558b71b03"
      },
      "source": [
        "print(aapl_bar)\n",
        "print(df_2017)\n",
        "append = aapl_bar.append(df_2017)   # merge aapl_bar and df_2017 by axis = 0 (joins the rows)\n",
        "print(append)"
      ],
      "execution_count": null,
      "outputs": [
        {
          "output_type": "stream",
          "name": "stdout",
          "text": [
            "                 Open       High        Low      Close  rate_return\n",
            "Date                                                               \n",
            "2016-01-31  21.792770  22.379028  21.691611  22.379028          NaN\n",
            "2016-02-29  22.389510  22.706190  22.340968  22.350214    -0.001288\n",
            "2016-03-31  25.362140  25.403748  25.167971  25.193398     0.127211\n",
            "2016-04-30  21.726104  21.894847  21.383998  21.668316    -0.139921\n",
            "2016-05-31  23.163048  23.349098  22.981651  23.223515     0.071773\n",
            "2016-06-30  21.963036  22.272340  21.930477  22.232805    -0.042660\n",
            "2016-07-31  24.230505  24.314227  24.111898  24.235155     0.090063\n",
            "2016-08-31  24.705477  24.918253  24.700800  24.808357     0.023652\n",
            "2016-09-30  26.295458  26.508235  26.141137  26.433413     0.065504\n",
            "2016-10-31  26.573707  26.709324  26.468487  26.547987     0.004334\n",
            "2016-11-30  26.228345  26.369357  25.915766  25.974522    -0.021601\n",
            "2016-12-31  27.415203  27.544463  27.128477  27.220135     0.047955\n",
            "               Change       High        Low      Close\n",
            "Date                                                  \n",
            "2016-10-31  26.573707  26.709324  26.468487  26.547987\n",
            "2016-11-30  26.228345  26.369357  25.915766  25.974522\n",
            "2016-12-31  27.415203  27.544463  27.128477  27.220135\n",
            "2017-01-31  28.472797  28.529201  28.348236  28.519800\n",
            "2017-02-28  32.356352  32.441327  32.266656  32.335110\n",
            "2017-03-31  33.923666  34.053488  33.756076  33.909504\n",
            "2017-04-30  34.011005  34.060575  33.817454  33.907146\n",
            "                 Open       High        Low      Close  rate_return     Change\n",
            "Date                                                                          \n",
            "2016-01-31  21.792770  22.379028  21.691611  22.379028          NaN        NaN\n",
            "2016-02-29  22.389510  22.706190  22.340968  22.350214    -0.001288        NaN\n",
            "2016-03-31  25.362140  25.403748  25.167971  25.193398     0.127211        NaN\n",
            "2016-04-30  21.726104  21.894847  21.383998  21.668316    -0.139921        NaN\n",
            "2016-05-31  23.163048  23.349098  22.981651  23.223515     0.071773        NaN\n",
            "2016-06-30  21.963036  22.272340  21.930477  22.232805    -0.042660        NaN\n",
            "2016-07-31  24.230505  24.314227  24.111898  24.235155     0.090063        NaN\n",
            "2016-08-31  24.705477  24.918253  24.700800  24.808357     0.023652        NaN\n",
            "2016-09-30  26.295458  26.508235  26.141137  26.433413     0.065504        NaN\n",
            "2016-10-31  26.573707  26.709324  26.468487  26.547987     0.004334        NaN\n",
            "2016-11-30  26.228345  26.369357  25.915766  25.974522    -0.021601        NaN\n",
            "2016-12-31  27.415203  27.544463  27.128477  27.220135     0.047955        NaN\n",
            "2016-10-31        NaN  26.709324  26.468487  26.547987          NaN  26.573707\n",
            "2016-11-30        NaN  26.369357  25.915766  25.974522          NaN  26.228345\n",
            "2016-12-31        NaN  27.544463  27.128477  27.220135          NaN  27.415203\n",
            "2017-01-31        NaN  28.529201  28.348236  28.519800          NaN  28.472797\n",
            "2017-02-28        NaN  32.441327  32.266656  32.335110          NaN  32.356352\n",
            "2017-03-31        NaN  34.053488  33.756076  33.909504          NaN  33.923666\n",
            "2017-04-30        NaN  34.060575  33.817454  33.907146          NaN  34.011005\n"
          ]
        }
      ]
    },
    {
      "cell_type": "markdown",
      "metadata": {
        "id": "zXT6cMquSq_P"
      },
      "source": [
        "'Append' is essentially to concat two DataFrames by axis = 0, thus here is an alternative way to append:"
      ]
    },
    {
      "cell_type": "code",
      "metadata": {
        "colab": {
          "base_uri": "https://localhost:8080/"
        },
        "id": "2EuSaFO9HW-D",
        "outputId": "432051d4-2584-4f31-ee25-686611c3a4cf"
      },
      "source": [
        "concat = pd.concat([aapl_bar, df_2017], axis = 0) # merge aapl_bar and df_2017 by axis = 0 (joins the rows)\n",
        "print(concat)"
      ],
      "execution_count": null,
      "outputs": [
        {
          "output_type": "stream",
          "name": "stdout",
          "text": [
            "                 Open       High        Low      Close  rate_return\n",
            "Date                                                               \n",
            "2016-01-31  21.792770  22.379028  21.691611  22.379028          NaN\n",
            "2016-02-29  22.389510  22.706190  22.340968  22.350214    -0.001288\n",
            "2016-03-31  25.362140  25.403748  25.167971  25.193398     0.127211\n",
            "2016-04-30  21.726104  21.894847  21.383998  21.668316    -0.139921\n",
            "2016-05-31  23.163048  23.349098  22.981651  23.223515     0.071773\n",
            "2016-06-30  21.963036  22.272340  21.930477  22.232805    -0.042660\n",
            "2016-07-31  24.230505  24.314227  24.111898  24.235155     0.090063\n",
            "2016-08-31  24.705477  24.918253  24.700800  24.808357     0.023652\n",
            "2016-09-30  26.295458  26.508235  26.141137  26.433413     0.065504\n",
            "2016-10-31  26.573707  26.709324  26.468487  26.547987     0.004334\n",
            "2016-11-30  26.228345  26.369357  25.915766  25.974522    -0.021601\n",
            "2016-12-31  27.415203  27.544463  27.128477  27.220135     0.047955\n",
            "2016-10-31  26.573707  26.709324  26.468487  26.547987          NaN\n",
            "2016-11-30  26.228345  26.369357  25.915766  25.974522          NaN\n",
            "2016-12-31  27.415203  27.544463  27.128477  27.220135          NaN\n",
            "2017-01-31  28.472797  28.529201  28.348236  28.519800          NaN\n",
            "2017-02-28  32.356352  32.441327  32.266656  32.335110          NaN\n",
            "2017-03-31  33.923666  34.053488  33.756076  33.909504          NaN\n",
            "2017-04-30  34.011005  34.060575  33.817454  33.907146          NaN\n"
          ]
        }
      ]
    },
    {
      "cell_type": "markdown",
      "metadata": {
        "id": "-YXL7V9ASst9"
      },
      "source": [
        "Please note that if the two DataFrame have some columns with the same column names, these columns are considered to be the same and will be merged. It's very important to have the right column names. If we change a column names here:"
      ]
    },
    {
      "cell_type": "code",
      "metadata": {
        "colab": {
          "base_uri": "https://localhost:8080/"
        },
        "id": "aT1eoa8mHW-D",
        "outputId": "0cab39c2-f67c-411e-ae35-0e9456299676"
      },
      "source": [
        "df_2017.columns = ['Change', 'High','Low','Close']\n",
        "concat = pd.concat([aapl_bar, df_2017], axis = 0)  # merge aapl_bar and df_2017 by axis = 0 (joins the rows), columns with the same names are considered the same\n",
        "print(concat)"
      ],
      "execution_count": null,
      "outputs": [
        {
          "output_type": "stream",
          "name": "stdout",
          "text": [
            "                 Open       High        Low      Close  rate_return     Change\n",
            "Date                                                                          \n",
            "2016-01-31  21.792770  22.379028  21.691611  22.379028          NaN        NaN\n",
            "2016-02-29  22.389510  22.706190  22.340968  22.350214    -0.001288        NaN\n",
            "2016-03-31  25.362140  25.403748  25.167971  25.193398     0.127211        NaN\n",
            "2016-04-30  21.726104  21.894847  21.383998  21.668316    -0.139921        NaN\n",
            "2016-05-31  23.163048  23.349098  22.981651  23.223515     0.071773        NaN\n",
            "2016-06-30  21.963036  22.272340  21.930477  22.232805    -0.042660        NaN\n",
            "2016-07-31  24.230505  24.314227  24.111898  24.235155     0.090063        NaN\n",
            "2016-08-31  24.705477  24.918253  24.700800  24.808357     0.023652        NaN\n",
            "2016-09-30  26.295458  26.508235  26.141137  26.433413     0.065504        NaN\n",
            "2016-10-31  26.573707  26.709324  26.468487  26.547987     0.004334        NaN\n",
            "2016-11-30  26.228345  26.369357  25.915766  25.974522    -0.021601        NaN\n",
            "2016-12-31  27.415203  27.544463  27.128477  27.220135     0.047955        NaN\n",
            "2016-10-31        NaN  26.709324  26.468487  26.547987          NaN  26.573707\n",
            "2016-11-30        NaN  26.369357  25.915766  25.974522          NaN  26.228345\n",
            "2016-12-31        NaN  27.544463  27.128477  27.220135          NaN  27.415203\n",
            "2017-01-31        NaN  28.529201  28.348236  28.519800          NaN  28.472797\n",
            "2017-02-28        NaN  32.441327  32.266656  32.335110          NaN  32.356352\n",
            "2017-03-31        NaN  34.053488  33.756076  33.909504          NaN  33.923666\n",
            "2017-04-30        NaN  34.060575  33.817454  33.907146          NaN  34.011005\n"
          ]
        }
      ]
    },
    {
      "cell_type": "markdown",
      "metadata": {
        "id": "shbpOFyyS6uV"
      },
      "source": [
        "Since the column name of 'Open' has been changed, the new DataFrame has an new column named 'Change'.\n",
        "\n",
        "# Summary\n",
        "\n",
        "Hereby we introduced the most import part of python: resampling and DataFrame manipulation. We only introduced the most commonly used method in Financial data analysis. There are also many methods used in data mining, which are also beneficial. You can always check the [Pandas](https://pandas.pydata.org/pandas-docs/stable/index.html) official documentations for help."
      ]
    }
  ]
}