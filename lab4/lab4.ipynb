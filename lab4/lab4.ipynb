{
  "nbformat": 4,
  "nbformat_minor": 0,
  "metadata": {
    "colab": {
      "name": "lab4.ipynb",
      "provenance": [],
      "authorship_tag": "ABX9TyMMuaUU9wRMP/q9XaguLNla",
      "include_colab_link": true
    },
    "kernelspec": {
      "name": "python3",
      "display_name": "Python 3"
    },
    "language_info": {
      "name": "python"
    }
  },
  "cells": [
    {
      "cell_type": "markdown",
      "metadata": {
        "id": "view-in-github",
        "colab_type": "text"
      },
      "source": [
        "<a href=\"https://colab.research.google.com/github/jalvaradoc/Repositorio_Algoritmos/blob/main/lab4/lab4.ipynb\" target=\"_parent\"><img src=\"https://colab.research.google.com/assets/colab-badge.svg\" alt=\"Open In Colab\"/></a>"
      ]
    },
    {
      "cell_type": "code",
      "execution_count": 1,
      "metadata": {
        "id": "I9aEbKXsqCD-"
      },
      "outputs": [],
      "source": [
        "import numpy as np\n",
        "from math import copysign\n",
        "\n",
        "# A function that evaluates the polynom we are trying to\n",
        "# find roots from\n",
        "\n",
        "def polynom(x):\n",
        "    y = x**5 - 59 * x**4 + 35 * x**3 - 250 * x**2 + x - 70\n",
        "    return(y)"
      ]
    },
    {
      "cell_type": "code",
      "source": [
        "# we create a generator from tuples from the value and \n",
        "# the evaluation of the polynom using a 0.00001 precision\n",
        "\n",
        "evaluated_polynom = ((x, polynom(x)) for x in np.arange(-1000, 1000, 0.00001))\n",
        "\n",
        "# we get the min value from the absolute of the evaluations\n",
        "\n",
        "answer = min(evaluated_polynom, key= lambda x: abs(x[1]))\n",
        "\n",
        "# we print the answer\n",
        "\n",
        "print(answer)"
      ],
      "metadata": {
        "colab": {
          "base_uri": "https://localhost:8080/"
        },
        "id": "LwtnL6RDqI7e",
        "outputId": "85877e7b-36b3-45b8-eaa6-f4706d72533b"
      },
      "execution_count": 2,
      "outputs": [
        {
          "output_type": "stream",
          "name": "stdout",
          "text": [
            "(58.47456732760861, 26.23322984630454)\n"
          ]
        }
      ]
    },
    {
      "cell_type": "code",
      "source": [
        "def polynom(x):\n",
        "    y = x**5 - 59 * x**4 + 35 * x**3 - 250 * x**2 + x - 70\n",
        "    return y\n",
        "\n",
        "# the limits of our evaluation  [a,b]\n",
        "limits  = [-1000,1000]\n",
        "\n",
        "while ( True ):\n",
        "    \n",
        "    #calculate the midpoint of the interval and evaluate the function at that point\n",
        "    #evaluate the function at a and b\n",
        "    midpoint=(limits[0]+limits[1])/2\n",
        "    y = polynom(midpoint)\n",
        "    a = polynom(limits[0])\n",
        "    b = polynom(limits[1])\n",
        "    \n",
        "    #check if the interval cannot be further divided\n",
        "    #(In that case, we’ve already found the root)\n",
        "    if(midpoint==limits[1]):\n",
        "        print(\"x = \"+str(midpoint),\"y = \"+str(y))\n",
        "        break\n",
        "\n",
        "    else:\n",
        "        #redefine the interval [a,b] as [a,m] or [m,b],\n",
        "        #depending on which of these intervals a sign change occurs\n",
        "        if(a*y)>0:\n",
        "            limits[0] = midpoint\n",
        "        if(b*y)>0:\n",
        "            limits[1] = midpoint\n",
        "   "
      ],
      "metadata": {
        "colab": {
          "base_uri": "https://localhost:8080/"
        },
        "id": "1_dxuJx7qZp2",
        "outputId": "16821c77-5f67-48e2-fc2f-75ff64435243"
      },
      "execution_count": 3,
      "outputs": [
        {
          "output_type": "stream",
          "name": "stdout",
          "text": [
            "x = 58.474565066319414 y = 5.999253005484206e-08\n"
          ]
        }
      ]
    }
  ]
}